{
 "cells": [
  {
   "cell_type": "code",
   "execution_count": 1,
   "metadata": {
    "collapsed": true
   },
   "outputs": [],
   "source": [
    "import pandas as pd\n",
    "import numpy as np\n",
    "import matplotlib.pyplot as plt\n",
    "import seaborn as sns\n",
    "from sklearn.feature_extraction.text import CountVectorizer\n",
    "from sklearn.feature_extraction.text import TfidfVectorizer\n",
    "from sklearn.linear_model import LogisticRegression\n",
    "from sklearn.model_selection import train_test_split\n",
    "\n",
    "\n",
    "from sklearn.decomposition import NMF, LatentDirichletAllocation, TruncatedSVD\n",
    "from string import punctuation\n",
    "from sklearn import svm\n",
    "from sklearn.utils import shuffle\n",
    "from nltk.corpus import stopwords\n",
    "from nltk.stem import WordNetLemmatizer\n",
    "import nltk\n",
    "from nltk import ngrams\n",
    "from itertools import chain\n",
    "import string\n",
    "\n",
    "from sklearn.metrics import recall_score, f1_score"
   ]
  },
  {
   "cell_type": "code",
   "execution_count": 2,
   "metadata": {},
   "outputs": [
    {
     "name": "stdout",
     "output_type": "stream",
     "text": [
      "Using count vectorizer\n",
      "   apple  banana  orange\n",
      "0      2       0       2\n",
      "1      2       2       0\n",
      "2      2       4       0\n",
      "3      0       4       2\n",
      "4      1       4       1\n",
      "\n",
      "Using tfidf\n",
      "      apple    banana    orange\n",
      "0  0.643744  0.000000  0.765241\n",
      "1  0.707107  0.707107  0.000000\n",
      "2  0.447214  0.894427  0.000000\n",
      "3  0.000000  0.859622  0.510931\n",
      "4  0.233043  0.932173  0.277026\n"
     ]
    }
   ],
   "source": [
    "corpus = ['Apple Orange Orange Apple',\\\n",
    "  'Apple Banana Apple Banana',\\\n",
    "  'Banana Apple Banana Banana Banana Apple',\\\n",
    "  'Banana Orange Banana Banana Orange Banana',\\\n",
    "  'Banana Apple Banana Banana Orange Banana']\n",
    "\n",
    "print(\"Using count vectorizer\")\n",
    "tf_vectorizer = CountVectorizer()\n",
    "tf = tf_vectorizer.fit_transform(corpus)\n",
    "print(pd.DataFrame(tf.A, columns=tf_vectorizer.get_feature_names()).to_string())\n",
    "\n",
    "print(\"\\nUsing tfidf\")\n",
    "tfidf_vec = TfidfVectorizer()\n",
    "tfidf = tfidf_vec.fit_transform(corpus)\n",
    "print(pd.DataFrame(tfidf.A, columns=tfidf_vec.get_feature_names()).to_string())"
   ]
  },
  {
   "cell_type": "code",
   "execution_count": 3,
   "metadata": {
    "collapsed": true
   },
   "outputs": [],
   "source": [
    "df = pd.read_csv('Reviews.csv')"
   ]
  },
  {
   "cell_type": "markdown",
   "metadata": {},
   "source": [
    "Source: https://www.kaggle.com/snap/amazon-fine-food-reviews"
   ]
  },
  {
   "cell_type": "code",
   "execution_count": 4,
   "metadata": {},
   "outputs": [
    {
     "data": {
      "text/html": [
       "<div>\n",
       "<style scoped>\n",
       "    .dataframe tbody tr th:only-of-type {\n",
       "        vertical-align: middle;\n",
       "    }\n",
       "\n",
       "    .dataframe tbody tr th {\n",
       "        vertical-align: top;\n",
       "    }\n",
       "\n",
       "    .dataframe thead th {\n",
       "        text-align: right;\n",
       "    }\n",
       "</style>\n",
       "<table border=\"1\" class=\"dataframe\">\n",
       "  <thead>\n",
       "    <tr style=\"text-align: right;\">\n",
       "      <th></th>\n",
       "      <th>Id</th>\n",
       "      <th>ProductId</th>\n",
       "      <th>UserId</th>\n",
       "      <th>ProfileName</th>\n",
       "      <th>HelpfulnessNumerator</th>\n",
       "      <th>HelpfulnessDenominator</th>\n",
       "      <th>Score</th>\n",
       "      <th>Time</th>\n",
       "      <th>Summary</th>\n",
       "      <th>Text</th>\n",
       "    </tr>\n",
       "  </thead>\n",
       "  <tbody>\n",
       "    <tr>\n",
       "      <th>0</th>\n",
       "      <td>1</td>\n",
       "      <td>B001E4KFG0</td>\n",
       "      <td>A3SGXH7AUHU8GW</td>\n",
       "      <td>delmartian</td>\n",
       "      <td>1</td>\n",
       "      <td>1</td>\n",
       "      <td>5</td>\n",
       "      <td>1303862400</td>\n",
       "      <td>Good Quality Dog Food</td>\n",
       "      <td>I have bought several of the Vitality canned d...</td>\n",
       "    </tr>\n",
       "    <tr>\n",
       "      <th>1</th>\n",
       "      <td>2</td>\n",
       "      <td>B00813GRG4</td>\n",
       "      <td>A1D87F6ZCVE5NK</td>\n",
       "      <td>dll pa</td>\n",
       "      <td>0</td>\n",
       "      <td>0</td>\n",
       "      <td>1</td>\n",
       "      <td>1346976000</td>\n",
       "      <td>Not as Advertised</td>\n",
       "      <td>Product arrived labeled as Jumbo Salted Peanut...</td>\n",
       "    </tr>\n",
       "    <tr>\n",
       "      <th>2</th>\n",
       "      <td>3</td>\n",
       "      <td>B000LQOCH0</td>\n",
       "      <td>ABXLMWJIXXAIN</td>\n",
       "      <td>Natalia Corres \"Natalia Corres\"</td>\n",
       "      <td>1</td>\n",
       "      <td>1</td>\n",
       "      <td>4</td>\n",
       "      <td>1219017600</td>\n",
       "      <td>\"Delight\" says it all</td>\n",
       "      <td>This is a confection that has been around a fe...</td>\n",
       "    </tr>\n",
       "    <tr>\n",
       "      <th>3</th>\n",
       "      <td>4</td>\n",
       "      <td>B000UA0QIQ</td>\n",
       "      <td>A395BORC6FGVXV</td>\n",
       "      <td>Karl</td>\n",
       "      <td>3</td>\n",
       "      <td>3</td>\n",
       "      <td>2</td>\n",
       "      <td>1307923200</td>\n",
       "      <td>Cough Medicine</td>\n",
       "      <td>If you are looking for the secret ingredient i...</td>\n",
       "    </tr>\n",
       "    <tr>\n",
       "      <th>4</th>\n",
       "      <td>5</td>\n",
       "      <td>B006K2ZZ7K</td>\n",
       "      <td>A1UQRSCLF8GW1T</td>\n",
       "      <td>Michael D. Bigham \"M. Wassir\"</td>\n",
       "      <td>0</td>\n",
       "      <td>0</td>\n",
       "      <td>5</td>\n",
       "      <td>1350777600</td>\n",
       "      <td>Great taffy</td>\n",
       "      <td>Great taffy at a great price.  There was a wid...</td>\n",
       "    </tr>\n",
       "  </tbody>\n",
       "</table>\n",
       "</div>"
      ],
      "text/plain": [
       "   Id   ProductId          UserId                      ProfileName  \\\n",
       "0   1  B001E4KFG0  A3SGXH7AUHU8GW                       delmartian   \n",
       "1   2  B00813GRG4  A1D87F6ZCVE5NK                           dll pa   \n",
       "2   3  B000LQOCH0   ABXLMWJIXXAIN  Natalia Corres \"Natalia Corres\"   \n",
       "3   4  B000UA0QIQ  A395BORC6FGVXV                             Karl   \n",
       "4   5  B006K2ZZ7K  A1UQRSCLF8GW1T    Michael D. Bigham \"M. Wassir\"   \n",
       "\n",
       "   HelpfulnessNumerator  HelpfulnessDenominator  Score        Time  \\\n",
       "0                     1                       1      5  1303862400   \n",
       "1                     0                       0      1  1346976000   \n",
       "2                     1                       1      4  1219017600   \n",
       "3                     3                       3      2  1307923200   \n",
       "4                     0                       0      5  1350777600   \n",
       "\n",
       "                 Summary                                               Text  \n",
       "0  Good Quality Dog Food  I have bought several of the Vitality canned d...  \n",
       "1      Not as Advertised  Product arrived labeled as Jumbo Salted Peanut...  \n",
       "2  \"Delight\" says it all  This is a confection that has been around a fe...  \n",
       "3         Cough Medicine  If you are looking for the secret ingredient i...  \n",
       "4            Great taffy  Great taffy at a great price.  There was a wid...  "
      ]
     },
     "execution_count": 4,
     "metadata": {},
     "output_type": "execute_result"
    }
   ],
   "source": [
    "df.head()"
   ]
  },
  {
   "cell_type": "code",
   "execution_count": 5,
   "metadata": {},
   "outputs": [
    {
     "data": {
      "text/plain": [
       "(568454, 10)"
      ]
     },
     "execution_count": 5,
     "metadata": {},
     "output_type": "execute_result"
    }
   ],
   "source": [
    "df.shape"
   ]
  },
  {
   "cell_type": "code",
   "execution_count": 6,
   "metadata": {},
   "outputs": [
    {
     "name": "stdout",
     "output_type": "stream",
     "text": [
      "((443777, 10), (82037, 10))\n"
     ]
    }
   ],
   "source": [
    "pos = df[df['Score']>3]\n",
    "neg = df[df['Score']<3]\n",
    "print(pos.shape, neg.shape)"
   ]
  },
  {
   "cell_type": "code",
   "execution_count": 7,
   "metadata": {},
   "outputs": [
    {
     "name": "stdout",
     "output_type": "stream",
     "text": [
      "((82037, 10), (82037, 10))\n"
     ]
    }
   ],
   "source": [
    "pos = pos.head(neg.shape[0])\n",
    "print(pos.shape, neg.shape)\n",
    "df = pd.concat([pos,neg])"
   ]
  },
  {
   "cell_type": "code",
   "execution_count": 8,
   "metadata": {},
   "outputs": [
    {
     "data": {
      "text/html": [
       "<div>\n",
       "<style scoped>\n",
       "    .dataframe tbody tr th:only-of-type {\n",
       "        vertical-align: middle;\n",
       "    }\n",
       "\n",
       "    .dataframe tbody tr th {\n",
       "        vertical-align: top;\n",
       "    }\n",
       "\n",
       "    .dataframe thead th {\n",
       "        text-align: right;\n",
       "    }\n",
       "</style>\n",
       "<table border=\"1\" class=\"dataframe\">\n",
       "  <thead>\n",
       "    <tr style=\"text-align: right;\">\n",
       "      <th></th>\n",
       "      <th>Id</th>\n",
       "      <th>ProductId</th>\n",
       "      <th>UserId</th>\n",
       "      <th>ProfileName</th>\n",
       "      <th>HelpfulnessNumerator</th>\n",
       "      <th>HelpfulnessDenominator</th>\n",
       "      <th>Score</th>\n",
       "      <th>Time</th>\n",
       "      <th>Summary</th>\n",
       "      <th>Text</th>\n",
       "    </tr>\n",
       "  </thead>\n",
       "  <tbody>\n",
       "    <tr>\n",
       "      <th>8743</th>\n",
       "      <td>8744</td>\n",
       "      <td>B000LKZ84C</td>\n",
       "      <td>A2VDQUOEN5SYKD</td>\n",
       "      <td>Coconut \"Unconstipated Carbivore Loiterer\"</td>\n",
       "      <td>6</td>\n",
       "      <td>6</td>\n",
       "      <td>5</td>\n",
       "      <td>1338076800</td>\n",
       "      <td>Awesome tofu</td>\n",
       "      <td>Having recently turned Vegan, I had to buy my ...</td>\n",
       "    </tr>\n",
       "    <tr>\n",
       "      <th>243718</th>\n",
       "      <td>243719</td>\n",
       "      <td>B000SAPXGS</td>\n",
       "      <td>A1U4I7P4DMAJTC</td>\n",
       "      <td>M. Harris</td>\n",
       "      <td>0</td>\n",
       "      <td>0</td>\n",
       "      <td>2</td>\n",
       "      <td>1281657600</td>\n",
       "      <td>low quality cut</td>\n",
       "      <td>My taste is subjective, which I didn't like th...</td>\n",
       "    </tr>\n",
       "    <tr>\n",
       "      <th>343469</th>\n",
       "      <td>343470</td>\n",
       "      <td>B00004RBDW</td>\n",
       "      <td>AN0B2UJLNWBCP</td>\n",
       "      <td>Erin Taylor</td>\n",
       "      <td>0</td>\n",
       "      <td>1</td>\n",
       "      <td>2</td>\n",
       "      <td>1296172800</td>\n",
       "      <td>Nice design, poor performance.</td>\n",
       "      <td>I'll go with &lt;a href=\"http://www.amazon.com/gp...</td>\n",
       "    </tr>\n",
       "    <tr>\n",
       "      <th>52857</th>\n",
       "      <td>52858</td>\n",
       "      <td>B004HKWZUC</td>\n",
       "      <td>A3JXKJ9LKNPSBX</td>\n",
       "      <td>Ruthie</td>\n",
       "      <td>1</td>\n",
       "      <td>1</td>\n",
       "      <td>5</td>\n",
       "      <td>1346630400</td>\n",
       "      <td>Perfect food for my old cat</td>\n",
       "      <td>My cat has \"put up\" with canned cat food and o...</td>\n",
       "    </tr>\n",
       "    <tr>\n",
       "      <th>61760</th>\n",
       "      <td>61761</td>\n",
       "      <td>B001HX59ZU</td>\n",
       "      <td>A2FKSMR4Q6EXFY</td>\n",
       "      <td>Duane E. Crawford</td>\n",
       "      <td>0</td>\n",
       "      <td>0</td>\n",
       "      <td>4</td>\n",
       "      <td>1268697600</td>\n",
       "      <td>Tea Purchase</td>\n",
       "      <td>I received the tea close to the date it was to...</td>\n",
       "    </tr>\n",
       "  </tbody>\n",
       "</table>\n",
       "</div>"
      ],
      "text/plain": [
       "            Id   ProductId          UserId  \\\n",
       "8743      8744  B000LKZ84C  A2VDQUOEN5SYKD   \n",
       "243718  243719  B000SAPXGS  A1U4I7P4DMAJTC   \n",
       "343469  343470  B00004RBDW   AN0B2UJLNWBCP   \n",
       "52857    52858  B004HKWZUC  A3JXKJ9LKNPSBX   \n",
       "61760    61761  B001HX59ZU  A2FKSMR4Q6EXFY   \n",
       "\n",
       "                                       ProfileName  HelpfulnessNumerator  \\\n",
       "8743    Coconut \"Unconstipated Carbivore Loiterer\"                     6   \n",
       "243718                                   M. Harris                     0   \n",
       "343469                                 Erin Taylor                     0   \n",
       "52857                                       Ruthie                     1   \n",
       "61760                            Duane E. Crawford                     0   \n",
       "\n",
       "        HelpfulnessDenominator  Score        Time  \\\n",
       "8743                         6      5  1338076800   \n",
       "243718                       0      2  1281657600   \n",
       "343469                       1      2  1296172800   \n",
       "52857                        1      5  1346630400   \n",
       "61760                        0      4  1268697600   \n",
       "\n",
       "                               Summary  \\\n",
       "8743                      Awesome tofu   \n",
       "243718                 low quality cut   \n",
       "343469  Nice design, poor performance.   \n",
       "52857      Perfect food for my old cat   \n",
       "61760                     Tea Purchase   \n",
       "\n",
       "                                                     Text  \n",
       "8743    Having recently turned Vegan, I had to buy my ...  \n",
       "243718  My taste is subjective, which I didn't like th...  \n",
       "343469  I'll go with <a href=\"http://www.amazon.com/gp...  \n",
       "52857   My cat has \"put up\" with canned cat food and o...  \n",
       "61760   I received the tea close to the date it was to...  "
      ]
     },
     "execution_count": 8,
     "metadata": {},
     "output_type": "execute_result"
    }
   ],
   "source": [
    "df = shuffle(df)\n",
    "df.head()"
   ]
  },
  {
   "cell_type": "markdown",
   "metadata": {},
   "source": [
    "## Preprocessing\n",
    "\n",
    "Remove all nutral scores and seperate the remaning into positive = 1 and negative = 0\n",
    "Preprocessing ususally involves:\n",
    "1. Removing additional white spaces\n",
    "2. Replacing emoji's with a word representation for example :) ==> smile\n",
    "3. Removing links from the corpus\n",
    "4. Removing punctuation\n",
    "5. Removing HTML tags\n",
    "6. Remove duplicate reviews\n",
    "\n",
    "Here are a good links on how to [process text](http://adataanalyst.com/scikit-learn/countvectorizer-sklearn-example/), [clean text](https://machinelearningmastery.com/clean-text-machine-learning-python/)\n",
    "\n",
    "For this exercise we will only tokenize reviews, that is change `\"This is a review\"` to `['this', 'is', 'a', 'review']`\n",
    "\n",
    "Once the text is 'clean' we will use sklearn:\n",
    "1. CountVectorizer - Count Vector is a matrix notation of the dataset in which every row represents a document from the corpus, every column represents a term from the corpus, and every cell represents the frequency count of a particular term in a particular document.\n",
    "2. TfidfVectorizer - TF-IDF score represents the relative importance of a term in the document and the entire corpus. TF-IDF score is composed by two terms: the first computes the normalized Term Frequency (TF), the second term is the Inverse Document Frequency (IDF), computed as the logarithm of the number of the documents in the corpus divided by the number of documents where the specific term appears.\n",
    "\n"
   ]
  },
  {
   "cell_type": "code",
   "execution_count": 9,
   "metadata": {
    "collapsed": true
   },
   "outputs": [],
   "source": [
    "df = df[df['Score'] !=3]\n",
    "X = df['Text']\n",
    "y_map = {1:0, 2:0, 4:1, 5:1}\n",
    "y = df['Score'].map(y_map)"
   ]
  },
  {
   "cell_type": "code",
   "execution_count": 10,
   "metadata": {},
   "outputs": [
    {
     "data": {
      "text/plain": [
       "8743      Having recently turned Vegan, I had to buy my ...\n",
       "243718    My taste is subjective, which I didn't like th...\n",
       "343469    I'll go with <a href=\"http://www.amazon.com/gp...\n",
       "52857     My cat has \"put up\" with canned cat food and o...\n",
       "61760     I received the tea close to the date it was to...\n",
       "Name: Text, dtype: object"
      ]
     },
     "execution_count": 10,
     "metadata": {},
     "output_type": "execute_result"
    }
   ],
   "source": [
    "X.head()"
   ]
  },
  {
   "cell_type": "code",
   "execution_count": 11,
   "metadata": {},
   "outputs": [
    {
     "data": {
      "text/plain": [
       "8743      1\n",
       "243718    0\n",
       "343469    0\n",
       "52857     1\n",
       "61760     1\n",
       "Name: Score, dtype: int64"
      ]
     },
     "execution_count": 11,
     "metadata": {},
     "output_type": "execute_result"
    }
   ],
   "source": [
    "y.head()"
   ]
  },
  {
   "cell_type": "markdown",
   "metadata": {},
   "source": [
    "## Classification\n",
    "\n",
    "Once the text is processed the next step is to do the actual classification. For this exercise we will be using a Logistic Regression Classifier. However there are many other popular classifiers that may perform better:\n",
    "1. Support Vector Machine and its variants\n",
    "2. Naive Bayes and its variants\n",
    "3. Random Forests and its variants \n",
    "\n",
    "Let's create a function that takes in the training set `X` , test set `y`, the model being used `model` and the classification algorithm `clf_model` as well as a variable that will show the top coefficients if true  `coef_show`"
   ]
  },
  {
   "cell_type": "code",
   "execution_count": 12,
   "metadata": {
    "collapsed": true
   },
   "outputs": [],
   "source": [
    "c = CountVectorizer(stop_words = 'english')\n",
    "\n",
    "def text_fit(X, y, model,clf_model,coef_show=1):\n",
    "    \n",
    "    X_c = model.fit_transform(X)\n",
    "    print('# features: {}'.format(X_c.shape[1]))\n",
    "    X_train, X_test, y_train, y_test = train_test_split(X_c, y, random_state=0)\n",
    "    print('# train records: {}'.format(X_train.shape[0]))\n",
    "    print('# test records: {}'.format(X_test.shape[0]))\n",
    "    clf = clf_model.fit(X_train, y_train)\n",
    "    y_pred = clf.predict(X_test)\n",
    "    recall = recall_score(y_test,y_pred)\n",
    "    print ('Model Recall: {}'.format(recall))\n",
    "    \n",
    "    if coef_show == 1: \n",
    "        w = model.get_feature_names()\n",
    "        coef = clf.coef_.tolist()[0]\n",
    "        coeff_df = pd.DataFrame({'Word' : w, 'Coefficient' : coef})\n",
    "        coeff_df = coeff_df.sort_values(['Coefficient', 'Word'], ascending=[0, 1])\n",
    "        print('')\n",
    "        print('-Top 20 positive-')\n",
    "        print(coeff_df.head(20).to_string(index=False))\n",
    "        print('')\n",
    "        print('-Top 20 negative-')        \n",
    "        print(coeff_df.tail(20).to_string(index=False))"
   ]
  },
  {
   "cell_type": "markdown",
   "metadata": {},
   "source": [
    "## Classification Experiments\n",
    "\n",
    "1. Logistic regression model on word count\n",
    "3. Logistic regression model on TFIDF\n",
    "2. Logistic regression model on TFIDF + ngram\n",
    "\n",
    "NGram Defn:\n",
    "N-grams of texts are extensively used in text mining and natural language processing tasks. They are basically a set of co-occuring words within a given window and when computing the n-grams you typically move one word forward (although you can move X words forward in more advanced scenarios). Taken from [here](http://text-analytics101.rxnlp.com/2014/11/what-are-n-grams.html)"
   ]
  },
  {
   "cell_type": "code",
   "execution_count": 13,
   "metadata": {},
   "outputs": [
    {
     "name": "stdout",
     "output_type": "stream",
     "text": [
      "# features: 68923\n",
      "# train records: 123055\n",
      "# test records: 41019\n",
      "Model Recall: 0.903033268102\n",
      "\n",
      "-Top 20 positive-\n",
      " Coefficient           Word\n",
      "    2.681539       perruche\n",
      "    2.560638         hooked\n",
      "    2.557240         resist\n",
      "    2.549074     pleasantly\n",
      "    2.489041       downside\n",
      "    2.270204        trainer\n",
      "    2.223639      addicting\n",
      "    2.178814            met\n",
      "    2.080941       drawback\n",
      "    2.063451          kenzi\n",
      "    2.062081   conventional\n",
      "    2.016371      delighted\n",
      "    2.010869      skeptical\n",
      "    2.007717      excellant\n",
      "    2.003566       soothing\n",
      "    1.993451        iprozon\n",
      "    1.989030  emeraldforest\n",
      "    1.979178         intend\n",
      "    1.967109           beat\n",
      "    1.936685      delicious\n",
      "\n",
      "-Top 20 negative-\n",
      " Coefficient            Word\n",
      "   -2.250262           vague\n",
      "   -2.262294            dive\n",
      "   -2.285755           blech\n",
      "   -2.312966    unacceptable\n",
      "   -2.334494       sleepless\n",
      "   -2.347865           ruins\n",
      "   -2.349191              ly\n",
      "   -2.369860           awful\n",
      "   -2.372334       revolting\n",
      "   -2.506446        crunchie\n",
      "   -2.510272         clogged\n",
      "   -2.535834   disappointing\n",
      "   -2.539162        terrible\n",
      "   -2.602148          ripoff\n",
      "   -2.640539       cancelled\n",
      "   -2.653777        mediocre\n",
      "   -2.697392     undrinkable\n",
      "   -2.751709  disappointment\n",
      "   -2.821555        canceled\n",
      "   -3.090395           worst\n"
     ]
    }
   ],
   "source": [
    "text_fit(X, y, c, LogisticRegression())"
   ]
  },
  {
   "cell_type": "code",
   "execution_count": 14,
   "metadata": {},
   "outputs": [
    {
     "name": "stdout",
     "output_type": "stream",
     "text": [
      "# features: 68923\n",
      "# train records: 123055\n",
      "# test records: 41019\n",
      "Model Recall: 0.896037181996\n",
      "\n",
      "-Top 20 positive-\n",
      " Coefficient       Word\n",
      "   11.334674      great\n",
      "   10.084653  delicious\n",
      "    9.693870       best\n",
      "    9.048528    perfect\n",
      "    8.158818      loves\n",
      "    7.947909  excellent\n",
      "    7.641509     highly\n",
      "    7.286554       love\n",
      "    7.165398  wonderful\n",
      "    6.567355    awesome\n",
      "    6.519948    amazing\n",
      "    6.507272       good\n",
      "    6.042612       nice\n",
      "    6.038016     hooked\n",
      "    5.966690   favorite\n",
      "    5.816251    pleased\n",
      "    5.651327      yummy\n",
      "    5.270336      happy\n",
      "    5.260439     smooth\n",
      "    5.256947       glad\n",
      "\n",
      "-Top 20 negative-\n",
      " Coefficient            Word\n",
      "   -5.261609        thinking\n",
      "   -5.348419           sorry\n",
      "   -5.446932           money\n",
      "   -5.520245          hoping\n",
      "   -5.853855           waste\n",
      "   -5.880164           stale\n",
      "   -6.066584      disgusting\n",
      "   -6.123047          return\n",
      "   -6.190843           threw\n",
      "   -6.221261         thought\n",
      "   -6.409925           bland\n",
      "   -6.743484            weak\n",
      "   -7.373478  disappointment\n",
      "   -7.431490   unfortunately\n",
      "   -8.196747        horrible\n",
      "   -8.198202           awful\n",
      "   -8.255631   disappointing\n",
      "   -8.387046        terrible\n",
      "   -9.696638    disappointed\n",
      "  -10.008181           worst\n"
     ]
    }
   ],
   "source": [
    "tfidf = TfidfVectorizer(stop_words = 'english')\n",
    "text_fit(X, y, tfidf, LogisticRegression())"
   ]
  },
  {
   "cell_type": "code",
   "execution_count": 15,
   "metadata": {},
   "outputs": [
    {
     "name": "stdout",
     "output_type": "stream",
     "text": [
      "# features: 1932701\n",
      "# train records: 123055\n",
      "# test records: 41019\n",
      "Model Recall: 0.908414872798\n",
      "\n",
      "-Top 20 positive-\n",
      " Coefficient              Word\n",
      "   17.349443             great\n",
      "   14.187974              best\n",
      "   13.826634         delicious\n",
      "   12.220781           perfect\n",
      "   11.512294             loves\n",
      "   11.226282              love\n",
      "   10.254568         excellent\n",
      "    9.488421              good\n",
      "    9.485983         wonderful\n",
      "    8.924322              nice\n",
      "    8.873869          favorite\n",
      "    7.660243           awesome\n",
      "    7.658719           amazing\n",
      "    7.619128              easy\n",
      "    7.376987             happy\n",
      "    7.192244             tasty\n",
      "    7.159826            highly\n",
      "    6.914574  highly recommend\n",
      "    6.908872           pleased\n",
      "    6.720247             yummy\n",
      "\n",
      "-Top 20 negative-\n",
      " Coefficient            Word\n",
      "   -6.493834      disgusting\n",
      "   -6.701207          hoping\n",
      "   -6.737991           threw\n",
      "   -6.794938           maybe\n",
      "   -6.832212           waste\n",
      "   -7.433154  disappointment\n",
      "   -7.520687           bland\n",
      "   -7.559387             bad\n",
      "   -7.657032          return\n",
      "   -7.717585           money\n",
      "   -7.836646           stale\n",
      "   -8.367154            weak\n",
      "   -8.951131         thought\n",
      "   -8.993515   unfortunately\n",
      "   -9.150792        horrible\n",
      "   -9.187637   disappointing\n",
      "   -9.532704           awful\n",
      "   -9.665748        terrible\n",
      "  -10.834025           worst\n",
      "  -13.781441    disappointed\n"
     ]
    }
   ],
   "source": [
    "tfidf_n = TfidfVectorizer(ngram_range=(1,2),stop_words = 'english')\n",
    "text_fit(X, y, tfidf_n, LogisticRegression())"
   ]
  },
  {
   "cell_type": "markdown",
   "metadata": {},
   "source": [
    "## Topic Modelling\n",
    "\n",
    "Topic modeling is an unsupervised machine learning technique that’s capable of scanning a set of documents, detecting word and phrase patterns within them, and automatically clustering word groups and similar expressions that best characterize a set of documents.\n",
    "\n",
    "Non Negative Matrix Factorization (NMF), Latent Dirichlet Allocation (LDA) and Single Value Decomposition (SVD) algorithms will be used to find topics in a document collection. The output of the derived topics involved assigning a numeric label to the topic and printing out the top words in a topic. \n",
    "\n",
    "The algorithms are not able to automatically determine the number of topics and this value must be set when running the algorithm. Comprehensive documentation on available parameters is available for both [NMF](http://scikit-learn.org/stable/modules/generated/sklearn.decomposition.NMF.html), [LDA](http://scikit-learn.org/stable/modules/generated/sklearn.decomposition.LatentDirichletAllocation.html#sklearn.decomposition.LatentDirichletAllocation) and [SVD](http://scikit-learn.org/stable/modules/generated/sklearn.decomposition.TruncatedSVD.html). \n"
   ]
  },
  {
   "cell_type": "code",
   "execution_count": 16,
   "metadata": {
    "collapsed": true
   },
   "outputs": [],
   "source": [
    "def display_topics(H, W, feature_names, documents, no_top_words, no_top_documents):\n",
    "    for topic_idx, topic in enumerate(H):\n",
    "        print(\"Topic %d:\" % (topic_idx))\n",
    "        print(\" \".join([feature_names[i]\n",
    "                        for i in topic.argsort()[:-no_top_words - 1:-1]]))\n",
    "        print(\"\\n\")\n",
    "        top_doc_indices = np.argsort( W[:,topic_idx] )[::-1][0:no_top_documents]\n",
    "        for doc_index in top_doc_indices:\n",
    "            print(documents[doc_index])\n",
    "            print(\"\\n\")"
   ]
  },
  {
   "cell_type": "code",
   "execution_count": 17,
   "metadata": {},
   "outputs": [
    {
     "name": "stdout",
     "output_type": "stream",
     "text": [
      "10000\n"
     ]
    }
   ],
   "source": [
    "documents = list(X)[0:10000]\n",
    "print len(documents)"
   ]
  },
  {
   "cell_type": "code",
   "execution_count": 18,
   "metadata": {
    "collapsed": true
   },
   "outputs": [],
   "source": [
    "# NMF is able to use tf-idf\n",
    "tfidf_vectorizer = TfidfVectorizer(max_df=0.95, min_df=2, stop_words='english')\n",
    "tfidf = tfidf_vectorizer.fit_transform(documents)\n",
    "tfidf_feature_names = tfidf_vectorizer.get_feature_names()"
   ]
  },
  {
   "cell_type": "code",
   "execution_count": 19,
   "metadata": {
    "collapsed": true
   },
   "outputs": [],
   "source": [
    "# LDA can only use raw term counts for LDA because it is a probabilistic graphical model\n",
    "tf_vectorizer = CountVectorizer(max_df=0.95, min_df=2, stop_words='english')\n",
    "tf = tf_vectorizer.fit_transform(documents)\n",
    "tf_feature_names = tf_vectorizer.get_feature_names()"
   ]
  },
  {
   "cell_type": "code",
   "execution_count": 20,
   "metadata": {
    "collapsed": true
   },
   "outputs": [],
   "source": [
    "no_topics = 5"
   ]
  },
  {
   "cell_type": "code",
   "execution_count": 21,
   "metadata": {
    "collapsed": true
   },
   "outputs": [],
   "source": [
    "# Run NMF\n",
    "nmf_model = NMF(n_components=no_topics, random_state=1, alpha=.1, l1_ratio=.5, init='nndsvd').fit(tfidf)\n",
    "nmf_W = nmf_model.transform(tfidf)\n",
    "nmf_H = nmf_model.components_"
   ]
  },
  {
   "cell_type": "code",
   "execution_count": 22,
   "metadata": {
    "collapsed": true
   },
   "outputs": [],
   "source": [
    "# Run LDA\n",
    "lda_model = LatentDirichletAllocation(n_components=no_topics, max_iter=5, learning_method='online', learning_offset=50.,random_state=0).fit(tf)\n",
    "lda_W = lda_model.transform(tf)\n",
    "lda_H = lda_model.components_"
   ]
  },
  {
   "cell_type": "code",
   "execution_count": 23,
   "metadata": {
    "collapsed": true
   },
   "outputs": [],
   "source": [
    "#SVD\n",
    "lsi_model = TruncatedSVD(n_components=no_topics, n_iter=7, random_state=42).fit(tf)\n",
    "lsi_W = lsi_model.transform(tf)\n",
    "lsi_H = lsi_model.components_"
   ]
  },
  {
   "cell_type": "code",
   "execution_count": 24,
   "metadata": {},
   "outputs": [
    {
     "name": "stdout",
     "output_type": "stream",
     "text": [
      "NMF Topics \n",
      "\n",
      "\n",
      "Topic 0:\n",
      "like taste good product just flavor great love really chocolate\n",
      "\n",
      "\n",
      "These chips are the BEST out there. Period. Love, love, love them. I haven't tried a flavor I don't like. Excellent with salsa, hummus, taco salads, or just plain. THe multi-grain is great, and I also like the blue corn. This weekend I just tried a couple of new flavors I found in a store, Sweet Potato BBQ and Sweet Potato with salt and pepper. Oh my gosh good. My husband likes the Jalapeno kind. I generally don't care for spicy things and was hesitant to try that flavor, but it wasn't bad spicy, and just had an all around great flavor like all the others. Add in the fact that they are gluten free, all natural, AND non-GMO.....goodness, if they were only organic I think I'd pass out!\n",
      "\n",
      "\n",
      "a great deal. it arrived with no damage. the taste to me is the best. i have tried most other brands and really got fed up with them. they just don't taste right to me. but this one i can eat right out of the bottle and enjoy it. it tastes so good. i am very happy with this purchase and the price is great also.\n",
      "\n",
      "\n",
      "I would like to say that I have never tried a flavor of jerky that I didn't like...  that was true until a few days ago.  I wanted to try something different and decided to stray from my usual peppered beef.  This was a mistake, I have to say this is the worst jerky/nuggets/meat product I have ever tried.  From the smell to the taste, just not good.  If you really want to give this stuff a whirl, I suggest you find a single pack.  Don't buy 4 of them like I did.  One final note:  taste is subjective, you may really love this stuff, I just didn't.\n",
      "\n",
      "\n",
      "I know many people say a lot of artificial sweeteners taste like sugar and don't, but this does.  If you sprinkle a little in your hand and taste it, it's amazing how much it taste just like sugar.  Would of given it 5 stars if more sugar came in the box for the same price.\n",
      "\n",
      "\n",
      "Topic 1:\n",
      "br amazon water products ingredients box com want packaging people\n",
      "\n",
      "\n",
      "ITALY hard candies.<br /><br />spicchi<br /><br />PERUGINA SORRENTO.<br /><br />lemon-orange-tangerine.<br /><br />*gluten free. (good)<br /><br />2 wrappers-the 1st wrapper comes<br />off easy but the inside wrapper<br />sticks to candy.<br /><br />3 color wrappers .....B U T, hard<br />to tell flavor you are eating.<br /><br />PRICE TOO EXPENSIVE.!<br /><br />SHIPPING TOO EXPENSIVE.!<br />(but-was very FAST).<br /><br />bbp okc ok 63 retired\n",
      "\n",
      "\n",
      "This is a good grocery for us.<br /><br />If you cook something,you can use it.<br /><br />It is smells so good.<br /><br />You should buy it.\n",
      "\n",
      "\n",
      "Received our package today- I knew they'd come in a bag and not in a neat box- that's totally okay with me. But I wasn't expecting a third of my shipment to be flavors/brands that weren't listed (that I don't like.) I am very disappointed that there was only 1 Gloria Jean's, 1 Caribou, and 1 Timothy's, and only 1 flavored Donut Shop coffee.  I am also very disappointed that there were only 3 tea varieties, and NO iced tea flavors! I wonder had they not put 9 k-cups in my package that I didn't want to order, if I would have gotten more of the varieties I ordered this for. But I have company coming tomorrow, so I guess I'll run out to BBB and buy some different non-coffee flavors in person so the non-coffee drinkers have something to choose from. Big letdown, Amazon... :(<br /><br />Here is what I received: 35 cups:<br /><br />Brooklyn Bridge Blend: (these were not listed and have poor reviews, I'm unhappy to be stuck with 7 of them now.)<br />corner donut house<br />boardwalk blend<br />breakfast blend decaf<br />breakfast blend<br />french roast<br />brooklyn bridge blend<br />colombian<br /><br />Grove Square: (not listed for anything but cider)<br />Milk chocolate cocoa<br />Hazelnut cappucino<br /><br />GMC:<br />Southern Pecan<br />Colombian fair trade select<br />mocha fudge nut<br />island coconut (limited edition)<br />breakfast blend<br />french vanilla iced coffee<br /><br />Wolfgang Puck:<br />Creme Caramel<br />sorrento<br />jamaica me crazy<br />colombian decaf<br />rodeo dr blend<br /><br />Coffee People:<br />DS coffee<br />Jet Fuel<br />decaf<br />sweet & creamy regular iced coffee<br />DS chocolate glazed donut<br /><br />Gloria Jeans butter toffee<br /><br />Emeril Big easy bold<br /><br />Newman's own extra bold<br /><br />Tully's house blend decaf<br /><br />Timothy's Kahlua original<br /><br />Revv Plulse<br /><br />Caribou Daybreak morning blend<br /><br />Tea:<br />Twinings Earl grey decaf<br />Bigelow green tea with pomegranate<br />Celestial seasonings english breakfast black tea\n",
      "\n",
      "\n",
      "This cake was a very rich chocolate in the middle.<br />It was the family's first lava cake.<br /><br />So, if you love rich chocolate,<br />this is for you.<br /><br />I am going to bake the next one<br />longer to please the family.<br /><br />It is very quick & easy to do,<br />with a very good price!<br /><br />I bought this only for an occasional<br />treat as we are attempting to eliminate<br />processed foods.<br /><br />It just looked good, and it was!\n",
      "\n",
      "\n",
      "Topic 2:\n",
      "coffee cup cups bold roast strong keurig like bitter weak\n",
      "\n",
      "\n",
      "I'm really not a coffee snob and only drink about 1 cup or so a day but this coffee was not so great. I do not like strong coffee but found I needed to use two pods for an 8oz cup and it still had a \"watery\" taste even though the coffee in the cup was very dark and appeared rich tasting. I wish they made a reusable pod for my Hamilton Beach model #49970 so I could grind my own coffee. I cannot recommend this coffee. Very disappointed. I'm going to try a different blend and hope for a better cup of coffee to start my day. Boo-hiss on this one!\n",
      "\n",
      "\n",
      "We love this coffee!  Its delicious and bold, just like we like our coffee.  Its great to be able to get this quality of coffee at such a great price too!\n",
      "\n",
      "\n",
      "This coffee is very smooth and has great flavor.  By far my favorite coffee.\n",
      "\n",
      "\n",
      "This coffee is very good. A little strong for my taste but I mix it 1/2 & 1/2 with regular coffee.\n",
      "\n",
      "\n",
      "Topic 3:\n",
      "tea green teas drink chai bags stash flavor iced black\n",
      "\n",
      "\n",
      "I drink a lot of tea... from the dollar store plain black tea to exotic loose leaf.  I have so much tea that I've been placed on a \"tea diet\" and have to sneak new teas into the house.  Needless to say, I was thrilled to try this new tea.<br /><br />Sadly, this tea fell very short.  I dont expect bagged chai tea to taste like real chai.  I do expect a nice spiced tea with a little bit of a kick.  I found this tea very weak.  Even leaving the tea in my 8 oz tea cup for 10 mins, the tea was still too weak.  I found the only way to drink this tea was to double up on the tea bags.  At 20 bags per box, this box would only last me 5 days with my 16 oz \"morning commute\" tea cup.<br /><br />On the plus side, this tea does smell nice.  I'm currently mixing it with no name cheap black tea with good results.  However it is likely that I will not purchase this tea in the future.\n",
      "\n",
      "\n",
      "I like tea, in fact I like it a lot. I've had some good gunpowder green tea in the past from adagio as well as Twinnings and it is a beautiful thing. You put what look like little BBs of green tea into your cup or teapot, add the water, and you can see the tea practically explode into nearly full size leaves of tea (hence the name).<br /><br />Davidson's tea disappoints. The tea leaves really don't expand much which tells me they weren't really rolled the way gunpowder green tea is supposed to be. This tea also lacks flavor (at least compared to the other gunpowder green teas I've tried). I used the same amount to brew the same cup of tea I've been enjoying with Twinnigs and frankly the Davidson's version tasted more like hot water than green tea. This may be because the leaves aren't as compacted as a proper gunpowder green tea so the same tablespoon of tea now has less actual mass of tea leaves, it could be because this tea has a lower quality tea leaf in it, heck it could be because this is an old batch of tea for all I know.<br /><br />The point of this review is to say that this tea was a complete waste of money. I am sorry to say I paid for an entire pound of it. I will try it once or twice more, but if the results remain the same I will likely have to throw out the rest of the bag and that would just make me sad because it would mean that I've wasted both money and tea.<br /><br />I have added a photo of the actual tea I received (compare it to that in the original product photos and you'll see a huge difference). Mine is the one that does not look like it is magically hanging in the air and defying gravity.<br /><br />TL;DR version: Don't buy this tea. It isn't really gunpowder green tea and is not worth your money.\n",
      "\n",
      "\n",
      "Green tea can be very bitter especially if you brew it too long. This tea brews quickly and has a very pure taste and delicate aroma. I like drinking each cup with a packet of stevia. It seems to sweeten it just enough without masking the subtle silky flavors. This tea is made of rare white tea and green tea. White tea actually has more antioxidants than green tea and has less caffeine. So this particluar tea is very healthy. However you will probably drink it often because it tastes so good.<br /><br />~The Rebecca Review\n",
      "\n",
      "\n",
      "This tea is amazingly tasty white tea. For most people they may not know what white tea taste like. Where black tea has the acidic taste of coffee and green tea has a very earth/leafy taste, white tea comes in as you would expect for its color. It is very light tasting with almost a lightly sweet maltiness to it. It doesn't have any of the harshness that you could find in black tea or coffee. And you can't really over brew it to release off-flavors as there is so little to the leaves. I find this tea works best for iced tea, it works well cold and has a much more refreshing flavor that other teas do on a summer day.<br />Of course there are there is the added benefit that it is good for you. If you want to try white tea, this is the product for you.\n",
      "\n",
      "\n",
      "Topic 4:\n",
      "food dog dogs treats cat cats eat loves treat chicken\n",
      "\n",
      "\n",
      "I have been using this dog food for quite some time, until my dog started throwing up and basically wouldn't eat much of this dog food anymore like he used to.  I stopped feeding him this dog food and bought organic.  My dog started eating again and stopped throwing up. I will not be buying this dog food anymore.\n",
      "\n",
      "\n",
      "Cat treats?  My MinPin (Dog) goes crazy over these!  I've been giving him these little treats for a couple of years along with his dog food...but I think he would give up his dog food for these!! It all started out as an accident..I didn't read the print saying they were for cats.\n",
      "\n",
      "\n",
      "I have 3 dogs and all three of my dogs will not eat this dog food. I even mixed wet food in with it, hoping they would eat it, but they just pick around the dry food and leave it. I would not recommend this food. Plus, it stinks!!!\n",
      "\n",
      "\n",
      "I have 3 dogs and all three of my dogs will not eat this dog food. I even mixed wet food in with it, hoping they would eat it, but they just pick around the dry food and leave it. I would not recommend this food. Plus, it stinks!!!\n",
      "\n",
      "\n"
     ]
    }
   ],
   "source": [
    "no_top_words = 10\n",
    "no_top_documents = 4\n",
    "print(\"NMF Topics \\n\\n\")\n",
    "display_topics(nmf_H, nmf_W, tfidf_feature_names, documents, no_top_words, no_top_documents)\n"
   ]
  },
  {
   "cell_type": "code",
   "execution_count": 25,
   "metadata": {},
   "outputs": [
    {
     "name": "stdout",
     "output_type": "stream",
     "text": [
      "\n",
      "\n",
      "LDA Topics \n",
      "\n",
      "\n",
      "Topic 0:\n",
      "tea dog dogs treats com treat green http www gp\n",
      "\n",
      "\n",
      "My toy poodle is 4 years old and he is pretty smart. He loves learning new tricks and seems to enjoy being challenged mentally. This product is great for him because he loves playing with tennis balls. Basically, this \"toy\" is really a puzzle for him to try to get the tennis ball out. It helps that my dog has small paws which can easily get inside the toy. Another benefit is the rubber is soft and is easily washable. It is particularly challenging for him to get the tennis ball\n",
      "\n",
      "\n",
      "Buying tea online is a risky proposition. I've enjoyed Jasmine teas for years--just not this one. Consider Stash's Organic White instead. <a href=\"http://www.amazon.com/gp/product/B000I1OLTM\">Stash Premium Tea, Organic Premium White, Tea Bags, 18-Count Boxes (Pack of 6)</a>\n",
      "\n",
      "\n",
      "Buying tea online is a risky proposition. I've enjoyed Jasmine teas for years--just not this one. Consider Stash's Organic White instead. <a href=\"http://www.amazon.com/gp/product/B000I1OLTM\">Stash Premium Tea, Organic Premium White, Tea Bags, 18-Count Boxes (Pack of 6)</a>\n",
      "\n",
      "\n",
      "Buying tea online is a risky proposition. I've enjoyed Jasmine teas for years--just not this one. Consider Stash's Organic White instead. <a href=\"http://www.amazon.com/gp/product/B000I1OLTM\">Stash Premium Tea, Organic Premium White, Tea Bags, 18-Count Boxes (Pack of 6)</a>\n",
      "\n",
      "\n",
      "Topic 1:\n",
      "br cookies hair cookie candy flour gum vitamin oil acid\n",
      "\n",
      "\n",
      "[...]<br /><br />Ingredients:<br />Organic Chicken, Chicken Meal, Organic Soybean Meal, Organic Sorghum, Fish Meal, Organic Peas, Organic Brown Rice, Organic Millet, Organic Rice, Chicken Fat (Naturally Stabilized with Mixed Tocopherols [a Source of Vitamin E]), Organic Oats, Organic Barley, Organic Flax Seed, Organic Canola Oil, Chicken Liver, Organic Carrots, Cranberries, DL-Methionine,  Dicalcium Phosphate, Sea Salt, Potassium Chloride, Taurine, Parsley, Choline Chloride, Zinc Amino Acid Complex (Source of Chelated Zinc), Iron Amino Acid Complex (Source of Chelated Iron), Vitamin E Supplement, Manganese Amino Acid Complex (Source of Chelated  Manganese), Copper Amino Acid Complex (Source of Chelated Copper), Niacin, Vitamin B12 Supplement, Vitamin A Acetate, Ascorbic Acid (Source of Vitamin C), Lecithin, Calcium Pantothenate, Thiamin Hydrochloride, Riboflavin, Cobalt Proteinate (Source of Chelated Cobalt), Vitamin D3 Supplement, Rosemary Extract,  Folic Acid, Biotin, Pyridoxine Hydrochloride, Rosemary Extract, Potassium Iodide, Sodium Selenite, Dehydrated Lactobacillus Acidophilus Fermentation Product, Dehydrated Bacillus Subtilis Fermentation Product, Dehydrated Bifidobacterium Thermophilum Fermentation Product, Dehydrated Bifidobacterium Longum Fermentation Product, Dehydrated Enterococcus Faecium Fermentation Product.\n",
      "\n",
      "\n",
      "\"They found that two of the licorice compounds, licoricidin and licorisoflavan A, were the most effective antibacterial substances. These substances killed two of the major bacteria responsible for dental cavities and two of the bacteria that promote gum disease. One of the compounds -- licoricidin -- also killed a third gum disease bacterium. The researchers say that these substances could treat or even prevent oral infections.\"<br /><br />file:///Users/roaeja/Desktop/Health/Dried%20licorice%20root%20fights%20the%20bacteria%20that%20cause%20tooth%20decay%20and%20gum%20disease,%20study%20finds.webarchive\n",
      "\n",
      "\n",
      "Sojos foods have been tested for nutritional content and they are all formulated to have a calcium to phosphorus ratio of 1.4:1. You do not need to add calcium or phosphorus.\n",
      "\n",
      "\n",
      "I picked this up to have on hand---seems we always have a stray to feed, extra dog food is a lovely bonus!  Overall : Meh.  Dogs will eat it. Has more protein than most discount brands.  But the sources of nutrition are NOT what I prefer for my furr babies.<br /><br />Here are the ingredients.  Make your own choice.  (Try [....] or [....] for the scoop.)<br /><br />Ingredients: Ground yellow corn, chicken-by-productmeal, corngluten meal, whole wheat flour, beef tallow preserved with mixed-tocopherols(sourceofVitaminE), rice flour, beef, soy flour, Minerals (tricalcium phosphate, salt, potassiumchloride, dicalcium phosphate, calcium carbonate, zincsulfate, ferroussulfate, manganese sulfate, copper sulfate, calcium iodate, sodium selenite), sugar, sorbitol, water, animal digest, phosphoric acid, sorbic acid (a preservative), L-Lysinemonohydrochloride, driedpeas, driedcarrots, calcium propionate(a preservative), choline chloride, Vitamins [Vitamin E, Vitamin A, niacin, Vitamin B-12, calcium pantothenate, riboflavin supplement, biotin, thiamine mononitrate, pyridoxine hydrochloride, folic acid, menadione sodiumbisulfite complex (source of Vitamin K activity), Vitamin D-3], added color (Yellow 5, Red 40, Yellow 6, Blue 2), DL-Methionine, glycerylmonostearate, garlicoil.<br /><br />Guaranteed Analysis: Crude Protein (minimum) 25% Moisture (maximum) 14% Crude Fat(minimum) 10% Crude Fiber (maximum) 4% Linoleic Acid (minimum) 1.5% Calcium (minimum) 1.1\n",
      "\n",
      "\n",
      "Topic 2:\n",
      "jerky china products br chicken pet fda food usa label\n",
      "\n",
      "\n",
      "One would assume that American kennel club chicken poppers would be manufatured in the United States, however these are not made in the usa. Had to return the product.\n",
      "\n",
      "\n",
      "One would assume that American kennel club chicken poppers would be manufatured in the United States, however these are not made in the usa. Had to return the product.\n",
      "\n",
      "\n",
      "According to the manufacturer's website, this (and many of their other products) contains menadione sodium bisulfite complex.<br /><br />Menadione is a synthetic precursor for Vitamin K and has been reported to have toxic effects. The use of menadione over the natural alternatives (such as leafy greens and kelp) is only for cost-saving reasons, hence usually only found in cheaper and lower quality animal food. It's surprising that pet food at this high of a price actually contains this substance.<br /><br />Menadione is banned by the Food & Drug Administration in over-the-counter supplements due to its potential for organ toxicity. It's also banned in Europe for human consumption.<br /><br />A study in rats showed that exposure to menadione \"produced lesions in the kidney, heart, liver and lung.\" Chiou et al. Toxicology 1997.<br /><br />Menadione's toxicity seems to be due to its ability to induce oxidative stress in cells.<br /><br />Do an online search for menadione and you'll find more info from a pet food watchdog trying to stop the inclusion of this substance.<br /><br />In light of recent episodes of toxic pet food and the questionable behaviors of manufacturers and our regulatory agencies, I would advise you to avoid feeding this to your cats.\n",
      "\n",
      "\n",
      "According to the manufacturer's website, this (and many of their other products) contains menadione sodium bisulfite complex.<br /><br />Menadione is a synthetic precursor for Vitamin K and has been reported to have toxic effects. The use of menadione over the natural alternatives (such as leafy greens and kelp) is only for cost-saving reasons, hence usually only found in cheaper and lower quality animal food. It's surprising that pet food at this high of a price actually contains this substance.<br /><br />Menadione is banned by the Food & Drug Administration in over-the-counter supplements due to its potential for organ toxicity. It's also banned in Europe for human consumption.<br /><br />A study in rats showed that exposure to menadione \"produced lesions in the kidney, heart, liver and lung.\" Chiou et al. Toxicology 1997.<br /><br />Menadione's toxicity seems to be due to its ability to induce oxidative stress in cells.<br /><br />Do an online search for menadione and you'll find more info from a pet food watchdog trying to stop the inclusion of this substance.<br /><br />In light of recent episodes of toxic pet food and the questionable behaviors of manufacturers and our regulatory agencies, I would advise you to avoid feeding this to your cats.\n",
      "\n",
      "\n",
      "Topic 3:\n",
      "like taste br flavor good just chocolate great sugar love\n",
      "\n",
      "\n",
      "These are perhaps the worst chips that have ever gone into my mouth.<br /><br />For my entire life Sour Cream & Onion (and in this case \"& Chive\") chips were my favorite. Recently Kettle brand Honey Dijon Mustard took that slot. So when I found out they had sour cream & onion I just had to try them.<br /><br />As soon as I opened the bag the chips smelled of powdered milk. And indeed each chip is coated with a powdered sour cream that is just awful. It tastes like rancid milk. Not just sour, but like sour cream that when rancid. The powdery texture is also extremely unappealing. I basically hated these chips. I would not recommend these chips to anyone unless they had a particular affinity for a powdery, chalky texture on a chip, with a rancid (and onion flavor) and I have a hard time believing that person exists.<br /><br />I plan on contacting Kettle and sharing my thoughts with them. Hopefully they'll reassess the seasoning on these otherwise wonderful kettle style chips.\n",
      "\n",
      "\n",
      "These are perhaps the worst chips that have ever gone into my mouth.<br /><br />For my entire life Sour Cream & Onion (and in this case \"& Chive\") chips were my favorite. Recently Kettle brand Honey Dijon Mustard took that slot. So when I found out they had sour cream & onion I just had to try them.<br /><br />As soon as I opened the bag the chips smelled of powdered milk. And indeed each chip is coated with a powdered sour cream that is just awful. It tastes like rancid milk. Not just sour, but like sour cream that when rancid. The powdery texture is also extremely unappealing. I basically hated these chips. I would not recommend these chips to anyone unless they had a particular affinity for a powdery, chalky texture on a chip, with a rancid (and onion flavor) and I have a hard time believing that person exists.<br /><br />I plan on contacting Kettle and sharing my thoughts with them. Hopefully they'll reassess the seasoning on these otherwise wonderful kettle style chips.\n",
      "\n",
      "\n",
      "I ... like so many others who observe Thanksgiving, think that the holiday simply isn't complete without a slice of pumpkin pie.  And while it is one of the healthier desserts out there (well, I like to think it is, anyway, because of the pumpkin), it is still not at all what I'd consider healthy or low fat or low calorie.<br /><br />But ... this is the perfect alternative to those who feel guilty after indulging in a slice of pumpkin pie.  THIS is pumpkin pie without the guilt!  It has the flavor of Matcha in it (of course), but also the sweet, delicious, rich and savory taste of pumpkin, a touch of cinnamon, and the buttery taste of pastry in there.  So yummy!<br /><br />I recommend trying this one as a latte.  I used a 1:1 ratio here, using 1 part hot water to 1 part warmed milk.  This helped bring out the creaminess of the pumpkin pie, and also brought out the pastry notes as I had a hard time tasting them without the milk.<br /><br />Scrumptious!\n",
      "\n",
      "\n",
      "We love dark chocolate, so this bar tastes great to us. It's low calorie, only 2g of sugar, 15g of protein and 9g of fiber and it's gluten free! It kind of reminds me of the Hershey Krackel candy (only in dark chocolate). My 9 year old loves these. It makes a great snack. She likes it even more then the other Nugo Dark Chocolate crunch gluten free protein bars.<br />I'm not a big fan of many protein bars with crisped rice or many different nuts. This one tastes like a candy bar, only I don't feel bad eating it, since it's only 2g of sugar, lower fat, loaded with protein and it's dark chocolate.<br />Raspberry flavor is good too, if you like raspberry with dark chocolate.\n",
      "\n",
      "\n",
      "Topic 4:\n",
      "br product coffee food like just good amazon buy time\n",
      "\n",
      "\n",
      "This review will make me sound really stupid, but whatever. I don't really care as long as people find out what's real and can avoid my mistakes.<br /><br />I got my wonderful little sweet Bella Bean when she was a few days shy of three years old. She had been bounced around from house to house and eating whatever was cheap. I have had cats around me my entire life, for about twenty-five years now. My mother always just fed them whatever, the kinds of food you buy in the supermarket - Friskies, Nine Lives, Kit & Kaboodle, stuff like that. And our cats were always fine, at least in terms of their eating habits. They would eat in the morning, stop when they were done, come back, and eat some more when they got hungry.<br /><br />My housemate at the time was working for Hill's and assured me that this was the best food ever made, so great, so on and so forth. I now know that she is an utter buffoon, but I initially trusted her judgment, which is so unfortunate because she doesn't think. She also had plenty of coupons for free or deeply discounted bags, which made it a much more attractive choice.<br /><br />I first tried feeding the little Bean an unmeasured amount of Science Diet in a bowl, but that didn't work, as she would devour it in one sitting. So then I took to measuring it, and she did the same thing. Then I started parsing it out to twice a day. That didn't work either, because she would start going crazy in the middle of the day, running around, intentionally destroying things, deliberately spilling her water, crying, etc., until she got more food. So then I split it into three servings. Same thing. Then it got to be four servings. That was a little better, but it was too much maintenance and unrealistic to be around every day to feed her four times. So then it went back to three. All the while, I was trying to reduce the amount of food I was feeding her to less than 3/4 of a cup because she was a little chubby. Reducing was hell. She became even more hungry, but I figured she would get used to it. Not really.<br /><br />For over a year, she would wake me up every morning looking for food in a serious way, knocking things off my desk, ripping up any paper she could find, scratching at the door and committing general acts of mischief. As soon as she got food, she was back to her sweet self, but only for three or four hours.<br /><br />We thought she was bored, we thought she was a little nutty, and maybe even had a kitty eating disorder. She always wanted food. It was kind of funny but in the end it was just sad.<br /><br />A few weeks back, we took her to a new (good, non-money factory) vet for her second checkup since I've had her. I talked with him about her being always hungry. He asked what she ate, and I told him the adult indoor Science Diet. Without saying as much, he basically told me that this food is garbage and I should look for something else. He said cat food should have a protein followed by a carbohydrate as the first two ingredients. Science Diet does, in a very loose, by-product kind of way - ground up slaughterhouse leftovers and corn dust. Then they put a bunch of vitamins in it to make it \"healthy,\" instead of just using good ingredients from the beginning. Not that I care about spending money on the Bean, but this food is way too expensive for what it is.<br /><br />So we began transitioning her onto Wellness indoor formula about two weeks ago. She is still eating 50 percent Science Diet with 50 percent Wellness (you really shouldn't just give a cat different food one day out of the blue) but SHE NEVER FREAKS OUT ANYMORE. It's amazing. And it's 100 percent because she is eating real food now, along with that sawdust and chicken hearts I still regrettable have to feed her. We have her down to eating twice a day, only 1/3 cup in TOTAL. She was eating three times a day, 5/8 of a cup in total. Now she eats some in the morning, walks away, eats some more a few hours later, and then looks for dinner about twelve hours after her initial feeding. No more knocking things over, no more trashing Dad's papers on the desk, no more howling, no more deliberately spilled water on the floor. It's incredible.<br /><br />I feel so bad that I was doing this to her for so long. We really thought she was just being dramatic or whatever. But no, she was genuinely hungry because she wasn't eating any real food.<br /><br />Do your cat a favor - buy her or him so food made with real ingredients, things you would eat - Wellness, Halo, Innova, Evo, whatever. Figure it out for yourself, but please don't feed your cat this. It's garbage.\n",
      "\n",
      "\n",
      "This review will make me sound really stupid, but whatever. I don't really care as long as people find out what's real and can avoid my mistakes.<br /><br />I got my wonderful little sweet Bella Bean when she was a few days shy of three years old. She had been bounced around from house to house and eating whatever was cheap. I have had cats around me my entire life, for about twenty-five years now. My mother always just fed them whatever, the kinds of food you buy in the supermarket - Friskies, Nine Lives, Kit & Kaboodle, stuff like that. And our cats were always fine, at least in terms of their eating habits. They would eat in the morning, stop when they were done, come back, and eat some more when they got hungry.<br /><br />My housemate at the time was working for Hill's and assured me that this was the best food ever made, so great, so on and so forth. I now know that she is an utter buffoon, but I initially trusted her judgment, which is so unfortunate because she doesn't think. She also had plenty of coupons for free or deeply discounted bags, which made it a much more attractive choice.<br /><br />I first tried feeding the little Bean an unmeasured amount of Science Diet in a bowl, but that didn't work, as she would devour it in one sitting. So then I took to measuring it, and she did the same thing. Then I started parsing it out to twice a day. That didn't work either, because she would start going crazy in the middle of the day, running around, intentionally destroying things, deliberately spilling her water, crying, etc., until she got more food. So then I split it into three servings. Same thing. Then it got to be four servings. That was a little better, but it was too much maintenance and unrealistic to be around every day to feed her four times. So then it went back to three. All the while, I was trying to reduce the amount of food I was feeding her to less than 3/4 of a cup because she was a little chubby. Reducing was hell. She became even more hungry, but I figured she would get used to it. Not really.<br /><br />For over a year, she would wake me up every morning looking for food in a serious way, knocking things off my desk, ripping up any paper she could find, scratching at the door and committing general acts of mischief. As soon as she got food, she was back to her sweet self, but only for three or four hours.<br /><br />We thought she was bored, we thought she was a little nutty, and maybe even had a kitty eating disorder. She always wanted food. It was kind of funny but in the end it was just sad.<br /><br />A few weeks back, we took her to a new (good, non-money factory) vet for her second checkup since I've had her. I talked with him about her being always hungry. He asked what she ate, and I told him the adult indoor Science Diet. Without saying as much, he basically told me that this food is garbage and I should look for something else. He said cat food should have a protein followed by a carbohydrate as the first two ingredients. Science Diet does, in a very loose, by-product kind of way - ground up slaughterhouse leftovers and corn dust. Then they put a bunch of vitamins in it to make it \"healthy,\" instead of just using good ingredients from the beginning. Not that I care about spending money on the Bean, but this food is way too expensive for what it is.<br /><br />So we began transitioning her onto Wellness indoor formula about two weeks ago. She is still eating 50 percent Science Diet with 50 percent Wellness (you really shouldn't just give a cat different food one day out of the blue) but SHE NEVER FREAKS OUT ANYMORE. It's amazing. And it's 100 percent because she is eating real food now, along with that sawdust and chicken hearts I still regrettable have to feed her. We have her down to eating twice a day, only 1/3 cup in TOTAL. She was eating three times a day, 5/8 of a cup in total. Now she eats some in the morning, walks away, eats some more a few hours later, and then looks for dinner about twelve hours after her initial feeding. No more knocking things over, no more trashing Dad's papers on the desk, no more howling, no more deliberately spilled water on the floor. It's incredible.<br /><br />I feel so bad that I was doing this to her for so long. We really thought she was just being dramatic or whatever. But no, she was genuinely hungry because she wasn't eating any real food.<br /><br />Do your cat a favor - buy her or him so food made with real ingredients, things you would eat - Wellness, Halo, Innova, Evo, whatever. Figure it out for yourself, but please don't feed your cat this. It's garbage.\n",
      "\n",
      "\n",
      "This review will make me sound really stupid, but whatever. I don't really care as long as people find out what's real and can avoid my mistakes.<br /><br />I got my wonderful little sweet Bella Bean when she was a few days shy of three years old. She had been bounced around from house to house and eating whatever was cheap. I have had cats around me my entire life, for about twenty-five years now. My mother always just fed them whatever, the kinds of food you buy in the supermarket - Friskies, Nine Lives, Kit & Kaboodle, stuff like that. And our cats were always fine, at least in terms of their eating habits. They would eat in the morning, stop when they were done, come back, and eat some more when they got hungry.<br /><br />My housemate at the time was working for Hill's and assured me that this was the best food ever made, so great, so on and so forth. I now know that she is an utter buffoon, but I initially trusted her judgment, which is so unfortunate because she doesn't think. She also had plenty of coupons for free or deeply discounted bags, which made it a much more attractive choice.<br /><br />I first tried feeding the little Bean an unmeasured amount of Science Diet in a bowl, but that didn't work, as she would devour it in one sitting. So then I took to measuring it, and she did the same thing. Then I started parsing it out to twice a day. That didn't work either, because she would start going crazy in the middle of the day, running around, intentionally destroying things, deliberately spilling her water, crying, etc., until she got more food. So then I split it into three servings. Same thing. Then it got to be four servings. That was a little better, but it was too much maintenance and unrealistic to be around every day to feed her four times. So then it went back to three. All the while, I was trying to reduce the amount of food I was feeding her to less than 3/4 of a cup because she was a little chubby. Reducing was hell. She became even more hungry, but I figured she would get used to it. Not really.<br /><br />For over a year, she would wake me up every morning looking for food in a serious way, knocking things off my desk, ripping up any paper she could find, scratching at the door and committing general acts of mischief. As soon as she got food, she was back to her sweet self, but only for three or four hours.<br /><br />We thought she was bored, we thought she was a little nutty, and maybe even had a kitty eating disorder. She always wanted food. It was kind of funny but in the end it was just sad.<br /><br />A few weeks back, we took her to a new (good, non-money factory) vet for her second checkup since I've had her. I talked with him about her being always hungry. He asked what she ate, and I told him the adult indoor Science Diet. Without saying as much, he basically told me that this food is garbage and I should look for something else. He said cat food should have a protein followed by a carbohydrate as the first two ingredients. Science Diet does, in a very loose, by-product kind of way - ground up slaughterhouse leftovers and corn dust. Then they put a bunch of vitamins in it to make it \"healthy,\" instead of just using good ingredients from the beginning. Not that I care about spending money on the Bean, but this food is way too expensive for what it is.<br /><br />So we began transitioning her onto Wellness indoor formula about two weeks ago. She is still eating 50 percent Science Diet with 50 percent Wellness (you really shouldn't just give a cat different food one day out of the blue) but SHE NEVER FREAKS OUT ANYMORE. It's amazing. And it's 100 percent because she is eating real food now, along with that sawdust and chicken hearts I still regrettable have to feed her. We have her down to eating twice a day, only 1/3 cup in TOTAL. She was eating three times a day, 5/8 of a cup in total. Now she eats some in the morning, walks away, eats some more a few hours later, and then looks for dinner about twelve hours after her initial feeding. No more knocking things over, no more trashing Dad's papers on the desk, no more howling, no more deliberately spilled water on the floor. It's incredible.<br /><br />I feel so bad that I was doing this to her for so long. We really thought she was just being dramatic or whatever. But no, she was genuinely hungry because she wasn't eating any real food.<br /><br />Do your cat a favor - buy her or him so food made with real ingredients, things you would eat - Wellness, Halo, Innova, Evo, whatever. Figure it out for yourself, but please don't feed your cat this. It's garbage.\n",
      "\n",
      "\n",
      "This review will make me sound really stupid, but whatever. I don't really care as long as people find out what's real and can avoid my mistakes.<br /><br />I got my wonderful little sweet Bella Bean when she was a few days shy of three years old. She had been bounced around from house to house and eating whatever was cheap. I have had cats around me my entire life, for about twenty-five years now. My mother always just fed them whatever, the kinds of food you buy in the supermarket - Friskies, Nine Lives, Kit & Kaboodle, stuff like that. And our cats were always fine, at least in terms of their eating habits. They would eat in the morning, stop when they were done, come back, and eat some more when they got hungry.<br /><br />My housemate at the time was working for Hill's and assured me that this was the best food ever made, so great, so on and so forth. I now know that she is an utter buffoon, but I initially trusted her judgment, which is so unfortunate because she doesn't think. She also had plenty of coupons for free or deeply discounted bags, which made it a much more attractive choice.<br /><br />I first tried feeding the little Bean an unmeasured amount of Science Diet in a bowl, but that didn't work, as she would devour it in one sitting. So then I took to measuring it, and she did the same thing. Then I started parsing it out to twice a day. That didn't work either, because she would start going crazy in the middle of the day, running around, intentionally destroying things, deliberately spilling her water, crying, etc., until she got more food. So then I split it into three servings. Same thing. Then it got to be four servings. That was a little better, but it was too much maintenance and unrealistic to be around every day to feed her four times. So then it went back to three. All the while, I was trying to reduce the amount of food I was feeding her to less than 3/4 of a cup because she was a little chubby. Reducing was hell. She became even more hungry, but I figured she would get used to it. Not really.<br /><br />For over a year, she would wake me up every morning looking for food in a serious way, knocking things off my desk, ripping up any paper she could find, scratching at the door and committing general acts of mischief. As soon as she got food, she was back to her sweet self, but only for three or four hours.<br /><br />We thought she was bored, we thought she was a little nutty, and maybe even had a kitty eating disorder. She always wanted food. It was kind of funny but in the end it was just sad.<br /><br />A few weeks back, we took her to a new (good, non-money factory) vet for her second checkup since I've had her. I talked with him about her being always hungry. He asked what she ate, and I told him the adult indoor Science Diet. Without saying as much, he basically told me that this food is garbage and I should look for something else. He said cat food should have a protein followed by a carbohydrate as the first two ingredients. Science Diet does, in a very loose, by-product kind of way - ground up slaughterhouse leftovers and corn dust. Then they put a bunch of vitamins in it to make it \"healthy,\" instead of just using good ingredients from the beginning. Not that I care about spending money on the Bean, but this food is way too expensive for what it is.<br /><br />So we began transitioning her onto Wellness indoor formula about two weeks ago. She is still eating 50 percent Science Diet with 50 percent Wellness (you really shouldn't just give a cat different food one day out of the blue) but SHE NEVER FREAKS OUT ANYMORE. It's amazing. And it's 100 percent because she is eating real food now, along with that sawdust and chicken hearts I still regrettable have to feed her. We have her down to eating twice a day, only 1/3 cup in TOTAL. She was eating three times a day, 5/8 of a cup in total. Now she eats some in the morning, walks away, eats some more a few hours later, and then looks for dinner about twelve hours after her initial feeding. No more knocking things over, no more trashing Dad's papers on the desk, no more howling, no more deliberately spilled water on the floor. It's incredible.<br /><br />I feel so bad that I was doing this to her for so long. We really thought she was just being dramatic or whatever. But no, she was genuinely hungry because she wasn't eating any real food.<br /><br />Do your cat a favor - buy her or him so food made with real ingredients, things you would eat - Wellness, Halo, Innova, Evo, whatever. Figure it out for yourself, but please don't feed your cat this. It's garbage.\n",
      "\n",
      "\n"
     ]
    }
   ],
   "source": [
    "print(\"\\n\\nLDA Topics \\n\\n\")\n",
    "display_topics(lda_H, lda_W, tf_feature_names, documents, no_top_words, no_top_documents)\n"
   ]
  },
  {
   "cell_type": "code",
   "execution_count": 26,
   "metadata": {},
   "outputs": [
    {
     "name": "stdout",
     "output_type": "stream",
     "text": [
      "\n",
      "\n",
      "LSI Topics \n",
      "\n",
      "\n",
      "Topic 0:\n",
      "br like food product just good taste flavor tea dog\n",
      "\n",
      "\n",
      "The taste of SodaStream diet cola does not match that of mainstream brands.  This becomes especially noticeable for frequent drinkers of Diet Coke or Diet Pepsi.  Yet that isn't the main problem with the SodaStream offering.  The truth is simply that consumers are paying way too much for C02 refills -- sixteen times (16x) too much.<br /><br />While the general idea of at-home carbonation is solid, consumers should understand that they are grossly overpaying for SodaStream carbon dioxide refills. In fact, the prices charged are sixteen times (16x) wholesale costs or many, many times more expensive than the prices a restaurant would pay. In Europe, frugal consumers are aware of such markups and actually purchase their own restaurant-sized CO2 refills. In the US, we aren't so frugal.<br /><br />Other than the outrageous costs for the CO2 refills, there are other issues with the SodaStream Fountain Jet. One is the construction quality is quite low with very thin molded plastic and little weight. Additionally, the taste of generic soda flavors do not match that of the brand name products.<br /><br />Below is the calculated cost per two liter for the output of SodaStream soda. This includes the cost of the consumables AND the equipment costs. I have used very generous assumptions, including a low discount rate (i.e. cost of money).<br /><br />Transportation costs were not factored because 1) purchases of typical groceries should more or less overlap with soft drink purchases 2) grocery delivery has long been available in many areas 3) most people live closer to a grocery store than to a home furnishings store (I walk 100 ft. for groceries and drive one mile for BB&B) 4) the reverse logistics for the CO2 refills is an extra expense for the retailer that has to be factored into its profit margin and will ultimately be borne by the consumer.<br /><br />One of the reasons Bed Bath & Beyond, Macy's and Crate and Barrel choose to carry SodaStream is that they want the consumer to make MORE FREQUENT trips to their establishments for consumables. Instead of going to such establishments once every 3 to 6 months, customers will now visit once every 1 to 2 months. That makes an enormous difference for generating impulse purchases at such retailers. One could argue then that transportation costs could increase for the individual consumer.<br /><br />Total Costs = $1.73 per Two Liter -- More Expensive Than Retail<br /><br />*Concentrate<br />Flavor cost bottle of concentrate $4.99<br />Liters of product per container 12<br />Flavor/l $0.42<br /><br />*Carbonator<br />Volume of CO2 130<br />Cost of CO2 per refill (130 liters) 29.99<br />CO2 cost per liter $0.23<br /><br />*Sodastream Equipment Costs - Amortization Per Liter<br />Equipment cost $89.00<br />Equipment life (years) 5<br />Discount rate (cost of money) 8%<br />Liters per month 10.00<br />Monthly amortized cost $1.80<br />Cost of equipment per liter $0.18<br /><br />*Water Cost with Brita Filtration<br />Municipal water costs per liter in US $0.0004<br />Brita filter three pack (454 liters of water output) $16.95<br />Brita cost per liter $0.0373<br />Water and filter costs per liter $0.0377<br />(assumes you already own Brita Pitcher so no equipment costs, just incremental filtration)<br /><br />***TOTAL COSTS PER TWO LITER = (Flavor + CO2 + Equipment + Filtered Water) * 2<br />SodaStream Total Cost Per Two Liter = $1.73<br /><br />Without filtered water:<br />SodaStream Total Cost Per Two Liter = $1.65<br /><br />*****What does CO2 Really Cost????<br /><br />THE MATH BELOW IS WHAT SODASTREAM DOESN'T WANT THE CONSUMER TO KNOW<br /><br />*Restaurant Carbonation (note distributor prices, so there is still a distributor profit)<br />weight of CO2 contents of large restaurant CO2 tank: 50 lbs<br />weight in grams: 22,680 grams of CO2<br />cost to refill - Summer 2011: $35<br /><br />CO2 grams/liter of carbonated water: 7 grams<br /><br />*Efficiency of Restaurant CO2 Carbonation<br />losses: 10%<br />available CO2 in tank (residual is required for pressure): 85%<br />net accessible CO2 of total: 77%<br />usable grams of CO2: 17,350 grams<br /><br />*Output<br />carbonated liters of water: 2,479<br />cost per liter in USD$: $0.014<br /><br />*SodaStream Output<br />SodaStream Refill: 130 liters (quoted end product)<br />Cost per refill: $30.00<br />cost per SodaStream carbonated water: $0.231<br /><br />*SodaStream Markup Economics<br />ratio of SodaStream to Restaurant prices: 16.3x<br />SodaStream inflation price over restaurant pricing: 1534%<br />math: [y/x-x] to give increase over base case restaurant pricing<br /><br />This is an incredible 1500% markup<br /><br />Pros<br />Saves plastic<br />Allows flexible mixture of flavors<br /><br />Cons<br />Cost of output is not compelling<br />Grossly inflated CO2 refill costs<br />Another store trip required for refills separate from grocery store visit<br /><br />***Disclaimer: I am an investor who has used the product multiple times. At the time of this review, I did NOT have an investment in SodaStream either short or long. In the past, I have both owned the stock and shorted it (bet against it). I may be on either side of the trade by the time you read this -- I am not very sentimental.\n",
      "\n",
      "\n",
      "I treat my animal's health as if it were my own and try to not only find the best veterinarian care, but also the best foods.  I've had my dog Brandy on Eagle brand dog food for many years.  I remember when there was the melanine scare, but I didn't have to worry because all of the ingredients were natural and were grown in the United States.  Aside from that, once I changed from an inexpensive food with suspect ingredients, there was a very noticeable difference in her general appearance, especially her fur.  It became sleek and ultra shiny and her body slim and trim.<br /><br />Brandy is now eleven years old and although I cannot credit Eagle for her health, she has had only one minor incident that she's had to be taken to the vet's for outside of regular checkups.  My veterinarian wholeheartedly approves of her diet and is pleased that even though she's getting to be an old girl, she's amazingly healthy.  I used to use another Eagle brand, but since she's getting older,  I switched to the senior brand.  She's getting a tad chunky, but her activity level has changed.  Brandy still is frisky and I do believe a good diet has a lot to do with it.<br /><br />When my vet called me the other day with some test results from another dog, I asked her about the corn in this food.  Everyone is yelling about corn being a poor and unhealthy filler so I couldn't resist asking.  She simply said that she considered corn a vegetable and had little bad to say about it.  In other words, a not to worry situation.  My dog is happy, healthy, and I heartily recommend Eagle Pack Senior for all older dogs.<br /><br />INGREDIENTS:<br /><br />Chicken Meal, Ground Brown Rice, Ground Yellow Corn, Oatmeal, Chicken Fat (Preserved with Natural Mixed Tocopherols), Pork Meal, Brewers Dried Yeast, Dried Beet Pulp, Anchovy & Sardine Meal, Flaxseed, Dried Egg Product, Wheat Germ Meal, Potassium Chloride, Carrots, Peas, DL-Methionine, Vitamins [Vitamin A Supplement, Vitamin D-3 Supplement, Vitamin E Supplement, Riboflavin Supplement, Vitamin B-12 Supplement, d-Calcium Pantothenate, Niacin Supplement, Pyridoxine Hydrochloride, Thiamine Mononitrate, Folic Acid, Ascorbic Acid (Vitamin C), Biotin], Minerals [Polysaccharide Complexes of Zinc, Iron, Manganese and Copper, Cobalt Carbonate, Potassium Iodate, Sodium Selenite], Choline Chloride, Dried Kelp, Lecithin, Rosemary Extract, Glucosamine Hydrochloride, Yucca Schidigera Extract, Dried Lactobacillus acidophilus, Lactobacillus casei, Enterococcus faecium, Bacillus subtilis, Bacillus licheniformis, Aspergillus oryzae and Aspergillus niger Fermentation Products, Mixed Tocopherols (a natural preservative).<br /><br />GUARANTEED ANALYSIS:<br /><br />Crude Protein (min.)  26%<br /><br />Crude Fat (min.)  12%<br /><br />Crude Fiber (max.)  3.00%<br /><br />Moisture  (max.)  10.00%<br /><br />Calcium (min.)  1.00%<br /><br />Phosphorus (min.)  0.080%<br /><br />Vitamin A  (min.)  22,000 IU/kg<br /><br />Vitamin E  (min.)  165 IU/kg<br /><br />Ascorbic Acid (min.)  30 mg/kg<br />(Vitamin C)*<br /><br />Omega 6 Fatty (min.)  2.40%<br />Acids *<br /><br />Omega 3 Fatty (min.)  0.60%<br />Acids*<br /><br />Glucosamine  (min.)  340 mg/kg<br />Hydrochloride<br /><br />Total Lactic Acid  (min.)  100,000,000<br />Microrganisms*<br /><br />(Lactobacillus acidophilus, Lactobacillus casei, Enterococcus faecium in equal amounts)<br />*Not recognized as an essential nutrient by the AAFCO Dog Food Nutrient Profiles<br />Eagle Pack Senior Adult Dog Food is formulated to meet the nutritional levels established by the Association of American Feed Control Officials (AAFCO) Dog Food Nutrient Profiles for maintenance.<br /><br />FEEDING GUIDELINES (from the website):<br /><br />Transitioning to Eagle Pack®<br />It is important to slowly transition your dog from his/her current diet as it takes a few days for the body to adapt to the new nutrient levels. To transition, gradually mix in the new food over a 5-7 day period, increasing the amount of Eagle Pack each day, so that you are feeding 100% Eagle Pack by day 7.<br /><br />Determining Feeding Portions<br /><br />Looking at the chart, divide the total cups per day by the total number of times you feed your dog per day to determine the portion size for each meal. Keep a clean bowl of fresh water available at all times. Eagle Pack believes in feeding dry and wet food in combination whenever possible to help increase the level of water in your dog's diet.<br /><br />Recommended Feeding Portions<br /><br />(based on a standard 8 oz dry measuring cup)<br />Every dog is different so optimal feeding amounts may vary with age, size, activity level, breed and environment. Please use this information as an initial recommendation only and adjust as needed.<br /><br />WEIGHT OF DOG DAILY FEEDING<br /><br />Lbs. Cups<br /><br />0 - 5 1/4 - 1/2<br />10 - 20 3/4 - 1 1/4<br />30 - 40 1 1/4 - 1 3/4<br />50 - 60 2 1/4 - 2 1/2<br />70 - 80 3 - 3 1/2<br />80 - 100 3 1/2 - 4 1/2<br /><br />Standard measuring cup holds approximately 3.6 oz (102 g) of Eagle Pack Senior Adult Dog Food.<br />Dogs over 100 lbs. (45 kg): Add approximately 1/2 cup (51 g) for every 10 lbs. (4.5 kg) over 100 lbs.<br />Combination Feeding: If feeding with wet food, reduce dry amount fed by 1/3 cup (34 g) for every 6.0 oz (170 g) of wet food.<br />Calorie Content: This food contains 3,550 kcal per kilogram or 362 kcal per cup ME (metabolizable energy) on an as fed basis (calculated).\n",
      "\n",
      "\n",
      "the other ingredients are not so healthy and unfortunately I'm unable to review the flavor as I forgot I can't have beef anymore (due to health issues).<br /><br />Ingredients:  beef, flavoring supplement (salt, dextrose, corn syrup solids, maltodextrin, spices, spice extractives, soybean oil), vinegar, brown sugar, liquid smoke, salt, black pepper, garlic powder, spices<br /><br />Here is some info found on the internet:<br /><br />Maltodextrin ~ maltodextrin from corn or soy can be very unsafe/poison for anyone. As all GMO products like corn and soy are genetically engineered from the monsanto company. they insert a bacteria in all GMO products, and this changes the natural organic developing of corn or soy. do not buy anything that contains maltodextrin or titanium for your own health.<br /><br />Maltodextrin made in the US is made from corn.<br />Corn in the US is a GMO food so Maltodextrin as derived from a Gmo is extremely unsafe.<br /><br />Soy ~ this particular info from:<br /><br />(...)<br /><br />. . .fermented soy products such as natto, tempeh, miso and soy sauce, and enjoying the health benefits. Fermented soy does not wreak havoc on your body like unfermented soy products do.<br /><br />Here is just a sampling of the health effects that have been linked to unfermented soy consumption:<br /><br />*Breast cancer<br />*Brain damage<br />*Infant abnormalities<br />*Thyroid disorders<br />*Kidney stones<br />*Immune system impairment<br />*Severe, potentially fatal food allergies<br />*Impaired fertility<br />*Danger during pregnancy and nursing<br /><br />and for all ~<br /><br />Jesus Christ (Yahushua HaMashiach) is coming back. Don't leave this world without Him...<br /><br />Gift of God<br /><br />With all the bad going on in the world, God wants us to tell everyone about His good news.<br /><br />It's so fascinating always watching everything unfold just like the Bible predicts. I am often sent emails saying to forward it to everyone on my list if I am not ashamed of Yahweh (God) and His Messiah Yahushua HaMashiach (Jesus Christ). I do not forward those emails cuz I don't trust them (I'm not computer literate either), so I am sending this to everyone on my list (along with everyone else), as God does command us (no matter what the consequence to us) to share His good news with every one of His Messiah providing us with the only good way out of this world.<br /><br />Yep, just like it says it's going to happen in the Holy Bible (no matter which version is chosen to be believed or not believed), it's gonna get beyond tragically ugly here. If we think that there's been bad stuff already happening, we ain't seen nothin yet. Pretty much (if I remember correctly, but it's in the Bible), God unleashes 7 plagues the likes of which the world has never seen nor will see again (remember Sodom and Gomorrah, Noah's Ark and the great flood, etc., etc.); God abhors sin of which we are all guilty; no matter how big or how small (even the little white lie); sin is sin to God, and the penalty for sin is eternal death and separation from God.<br /><br />The Bible also tells of the Mark of the Beast that the coming world leader (the anti-Christ) will force everyone to take (either on their right hand or forehead). If you don't take the mark you will die. The thing about that is that we are all going to die. If you take the mark though, you will be damned eternally to hell and without God.<br /><br />The good news is that God loves us so much that He provided a way for us to be with Him eternally in heaven instead of eternally dead in our sins. For those who choose to believe, repent (turn back to God), receive and follow His command (not request) to accept His only holy blood covering for our sins, Yahushua Ha Mashiach (Jesus the Christ), we will be allowed to join Him in the new heaven and new earth that God says He will replace after all that is destroyed during this tribulation period of utter horrible death and destruction.<br /><br />Whether we believe in God or not, heaven and hell or not, we all believe that we are all going to die, just like we all believe that we need air to breath even if we can't see the air, along with if we jump off a tall building, we will fall cuz of gravity, which we also can't see, etc., etc.<br /><br />The question is, will we die only once with and for God if we repented, received and followed the sin covering that God provided for us through the perfect shed blood sacrifice of His Messiah Yahushua, who beat death and hell when He rose again and thus through His shed blood covering our sins, we will be able to enter into heaven with God forever?<br /><br />Is our choice instead to reject God's Messiah and take the easy way out while we still have to live in this world along with accepting the mark of the Beast from the antiChrist that's coming (or already here) that will lead this war against Israel? God says that we cannot serve two masters; that we have to choose to live and die once for Him or live and die forever without Him. It's just sad that people would rather have the temporary comfort leading to the eternal torment of satan than the temporary trouble leading to the eternal freedom and blessings of God.<br /><br />God's Word, whether we choose to believe is real (like Him) or not (and which has been proven true and continues to do so); I believe is as true as it was yesterday, is today and will be forever (just like Him with His swift terrible justice and His immeasurable love for us all because He provided our eTicket to heaven, the sacrificed and risen Yahushua the Messiah). Will you die with God or without Him? Will you die for Him or against Him? Will you accept the bail (Yahushua HaMashiach) that He paid on your behalf to get out of satan's hell so that you can enter into His heaven?<br /><br />My prayer is that all will ask Jesus Christ (Yeshua or Yahushua the Messiah) into their heart and follow Him so that all may know God's plan for our eternal salvation (rescue from our sins and eternal separation from God in hell) through His perfect sinless sacrificial substitute for our sins, Yahushua, and know His boundless, unconditional love, light, ultimate peace, power, strength, comfort, mercy, grace, beauty, healing, hope, joy and blessings, for you are so very precious in His sight!<br /><br />It's God's way (that He says in His Holy Word is only through His Holy Son Yahushua) or the highway (straight to hell). May God have mercy on us all on our way to finding (or rejecting) and then serving Him!<br /><br />Jesus is my hope in life and my life in death.<br /><br />Please take very good care, shalom and may you find healing and eternal life in the holy name of Jesus Christ!<br /><br />Yahushua loves you!\n",
      "\n",
      "\n",
      "Received our package today- I knew they'd come in a bag and not in a neat box- that's totally okay with me. But I wasn't expecting a third of my shipment to be flavors/brands that weren't listed (that I don't like.) I am very disappointed that there was only 1 Gloria Jean's, 1 Caribou, and 1 Timothy's, and only 1 flavored Donut Shop coffee.  I am also very disappointed that there were only 3 tea varieties, and NO iced tea flavors! I wonder had they not put 9 k-cups in my package that I didn't want to order, if I would have gotten more of the varieties I ordered this for. But I have company coming tomorrow, so I guess I'll run out to BBB and buy some different non-coffee flavors in person so the non-coffee drinkers have something to choose from. Big letdown, Amazon... :(<br /><br />Here is what I received: 35 cups:<br /><br />Brooklyn Bridge Blend: (these were not listed and have poor reviews, I'm unhappy to be stuck with 7 of them now.)<br />corner donut house<br />boardwalk blend<br />breakfast blend decaf<br />breakfast blend<br />french roast<br />brooklyn bridge blend<br />colombian<br /><br />Grove Square: (not listed for anything but cider)<br />Milk chocolate cocoa<br />Hazelnut cappucino<br /><br />GMC:<br />Southern Pecan<br />Colombian fair trade select<br />mocha fudge nut<br />island coconut (limited edition)<br />breakfast blend<br />french vanilla iced coffee<br /><br />Wolfgang Puck:<br />Creme Caramel<br />sorrento<br />jamaica me crazy<br />colombian decaf<br />rodeo dr blend<br /><br />Coffee People:<br />DS coffee<br />Jet Fuel<br />decaf<br />sweet & creamy regular iced coffee<br />DS chocolate glazed donut<br /><br />Gloria Jeans butter toffee<br /><br />Emeril Big easy bold<br /><br />Newman's own extra bold<br /><br />Tully's house blend decaf<br /><br />Timothy's Kahlua original<br /><br />Revv Plulse<br /><br />Caribou Daybreak morning blend<br /><br />Tea:<br />Twinings Earl grey decaf<br />Bigelow green tea with pomegranate<br />Celestial seasonings english breakfast black tea\n",
      "\n",
      "\n",
      "Topic 1:\n",
      "br co2 sodastream liter god cost costs min eagle equipment\n",
      "\n",
      "\n",
      "The taste of SodaStream diet cola does not match that of mainstream brands.  This becomes especially noticeable for frequent drinkers of Diet Coke or Diet Pepsi.  Yet that isn't the main problem with the SodaStream offering.  The truth is simply that consumers are paying way too much for C02 refills -- sixteen times (16x) too much.<br /><br />While the general idea of at-home carbonation is solid, consumers should understand that they are grossly overpaying for SodaStream carbon dioxide refills. In fact, the prices charged are sixteen times (16x) wholesale costs or many, many times more expensive than the prices a restaurant would pay. In Europe, frugal consumers are aware of such markups and actually purchase their own restaurant-sized CO2 refills. In the US, we aren't so frugal.<br /><br />Other than the outrageous costs for the CO2 refills, there are other issues with the SodaStream Fountain Jet. One is the construction quality is quite low with very thin molded plastic and little weight. Additionally, the taste of generic soda flavors do not match that of the brand name products.<br /><br />Below is the calculated cost per two liter for the output of SodaStream soda. This includes the cost of the consumables AND the equipment costs. I have used very generous assumptions, including a low discount rate (i.e. cost of money).<br /><br />Transportation costs were not factored because 1) purchases of typical groceries should more or less overlap with soft drink purchases 2) grocery delivery has long been available in many areas 3) most people live closer to a grocery store than to a home furnishings store (I walk 100 ft. for groceries and drive one mile for BB&B) 4) the reverse logistics for the CO2 refills is an extra expense for the retailer that has to be factored into its profit margin and will ultimately be borne by the consumer.<br /><br />One of the reasons Bed Bath & Beyond, Macy's and Crate and Barrel choose to carry SodaStream is that they want the consumer to make MORE FREQUENT trips to their establishments for consumables. Instead of going to such establishments once every 3 to 6 months, customers will now visit once every 1 to 2 months. That makes an enormous difference for generating impulse purchases at such retailers. One could argue then that transportation costs could increase for the individual consumer.<br /><br />Total Costs = $1.73 per Two Liter -- More Expensive Than Retail<br /><br />*Concentrate<br />Flavor cost bottle of concentrate $4.99<br />Liters of product per container 12<br />Flavor/l $0.42<br /><br />*Carbonator<br />Volume of CO2 130<br />Cost of CO2 per refill (130 liters) 29.99<br />CO2 cost per liter $0.23<br /><br />*Sodastream Equipment Costs - Amortization Per Liter<br />Equipment cost $89.00<br />Equipment life (years) 5<br />Discount rate (cost of money) 8%<br />Liters per month 10.00<br />Monthly amortized cost $1.80<br />Cost of equipment per liter $0.18<br /><br />*Water Cost with Brita Filtration<br />Municipal water costs per liter in US $0.0004<br />Brita filter three pack (454 liters of water output) $16.95<br />Brita cost per liter $0.0373<br />Water and filter costs per liter $0.0377<br />(assumes you already own Brita Pitcher so no equipment costs, just incremental filtration)<br /><br />***TOTAL COSTS PER TWO LITER = (Flavor + CO2 + Equipment + Filtered Water) * 2<br />SodaStream Total Cost Per Two Liter = $1.73<br /><br />Without filtered water:<br />SodaStream Total Cost Per Two Liter = $1.65<br /><br />*****What does CO2 Really Cost????<br /><br />THE MATH BELOW IS WHAT SODASTREAM DOESN'T WANT THE CONSUMER TO KNOW<br /><br />*Restaurant Carbonation (note distributor prices, so there is still a distributor profit)<br />weight of CO2 contents of large restaurant CO2 tank: 50 lbs<br />weight in grams: 22,680 grams of CO2<br />cost to refill - Summer 2011: $35<br /><br />CO2 grams/liter of carbonated water: 7 grams<br /><br />*Efficiency of Restaurant CO2 Carbonation<br />losses: 10%<br />available CO2 in tank (residual is required for pressure): 85%<br />net accessible CO2 of total: 77%<br />usable grams of CO2: 17,350 grams<br /><br />*Output<br />carbonated liters of water: 2,479<br />cost per liter in USD$: $0.014<br /><br />*SodaStream Output<br />SodaStream Refill: 130 liters (quoted end product)<br />Cost per refill: $30.00<br />cost per SodaStream carbonated water: $0.231<br /><br />*SodaStream Markup Economics<br />ratio of SodaStream to Restaurant prices: 16.3x<br />SodaStream inflation price over restaurant pricing: 1534%<br />math: [y/x-x] to give increase over base case restaurant pricing<br /><br />This is an incredible 1500% markup<br /><br />Pros<br />Saves plastic<br />Allows flexible mixture of flavors<br /><br />Cons<br />Cost of output is not compelling<br />Grossly inflated CO2 refill costs<br />Another store trip required for refills separate from grocery store visit<br /><br />***Disclaimer: I am an investor who has used the product multiple times. At the time of this review, I did NOT have an investment in SodaStream either short or long. In the past, I have both owned the stock and shorted it (bet against it). I may be on either side of the trade by the time you read this -- I am not very sentimental.\n",
      "\n",
      "\n",
      "I treat my animal's health as if it were my own and try to not only find the best veterinarian care, but also the best foods.  I've had my dog Brandy on Eagle brand dog food for many years.  I remember when there was the melanine scare, but I didn't have to worry because all of the ingredients were natural and were grown in the United States.  Aside from that, once I changed from an inexpensive food with suspect ingredients, there was a very noticeable difference in her general appearance, especially her fur.  It became sleek and ultra shiny and her body slim and trim.<br /><br />Brandy is now eleven years old and although I cannot credit Eagle for her health, she has had only one minor incident that she's had to be taken to the vet's for outside of regular checkups.  My veterinarian wholeheartedly approves of her diet and is pleased that even though she's getting to be an old girl, she's amazingly healthy.  I used to use another Eagle brand, but since she's getting older,  I switched to the senior brand.  She's getting a tad chunky, but her activity level has changed.  Brandy still is frisky and I do believe a good diet has a lot to do with it.<br /><br />When my vet called me the other day with some test results from another dog, I asked her about the corn in this food.  Everyone is yelling about corn being a poor and unhealthy filler so I couldn't resist asking.  She simply said that she considered corn a vegetable and had little bad to say about it.  In other words, a not to worry situation.  My dog is happy, healthy, and I heartily recommend Eagle Pack Senior for all older dogs.<br /><br />INGREDIENTS:<br /><br />Chicken Meal, Ground Brown Rice, Ground Yellow Corn, Oatmeal, Chicken Fat (Preserved with Natural Mixed Tocopherols), Pork Meal, Brewers Dried Yeast, Dried Beet Pulp, Anchovy & Sardine Meal, Flaxseed, Dried Egg Product, Wheat Germ Meal, Potassium Chloride, Carrots, Peas, DL-Methionine, Vitamins [Vitamin A Supplement, Vitamin D-3 Supplement, Vitamin E Supplement, Riboflavin Supplement, Vitamin B-12 Supplement, d-Calcium Pantothenate, Niacin Supplement, Pyridoxine Hydrochloride, Thiamine Mononitrate, Folic Acid, Ascorbic Acid (Vitamin C), Biotin], Minerals [Polysaccharide Complexes of Zinc, Iron, Manganese and Copper, Cobalt Carbonate, Potassium Iodate, Sodium Selenite], Choline Chloride, Dried Kelp, Lecithin, Rosemary Extract, Glucosamine Hydrochloride, Yucca Schidigera Extract, Dried Lactobacillus acidophilus, Lactobacillus casei, Enterococcus faecium, Bacillus subtilis, Bacillus licheniformis, Aspergillus oryzae and Aspergillus niger Fermentation Products, Mixed Tocopherols (a natural preservative).<br /><br />GUARANTEED ANALYSIS:<br /><br />Crude Protein (min.)  26%<br /><br />Crude Fat (min.)  12%<br /><br />Crude Fiber (max.)  3.00%<br /><br />Moisture  (max.)  10.00%<br /><br />Calcium (min.)  1.00%<br /><br />Phosphorus (min.)  0.080%<br /><br />Vitamin A  (min.)  22,000 IU/kg<br /><br />Vitamin E  (min.)  165 IU/kg<br /><br />Ascorbic Acid (min.)  30 mg/kg<br />(Vitamin C)*<br /><br />Omega 6 Fatty (min.)  2.40%<br />Acids *<br /><br />Omega 3 Fatty (min.)  0.60%<br />Acids*<br /><br />Glucosamine  (min.)  340 mg/kg<br />Hydrochloride<br /><br />Total Lactic Acid  (min.)  100,000,000<br />Microrganisms*<br /><br />(Lactobacillus acidophilus, Lactobacillus casei, Enterococcus faecium in equal amounts)<br />*Not recognized as an essential nutrient by the AAFCO Dog Food Nutrient Profiles<br />Eagle Pack Senior Adult Dog Food is formulated to meet the nutritional levels established by the Association of American Feed Control Officials (AAFCO) Dog Food Nutrient Profiles for maintenance.<br /><br />FEEDING GUIDELINES (from the website):<br /><br />Transitioning to Eagle Pack®<br />It is important to slowly transition your dog from his/her current diet as it takes a few days for the body to adapt to the new nutrient levels. To transition, gradually mix in the new food over a 5-7 day period, increasing the amount of Eagle Pack each day, so that you are feeding 100% Eagle Pack by day 7.<br /><br />Determining Feeding Portions<br /><br />Looking at the chart, divide the total cups per day by the total number of times you feed your dog per day to determine the portion size for each meal. Keep a clean bowl of fresh water available at all times. Eagle Pack believes in feeding dry and wet food in combination whenever possible to help increase the level of water in your dog's diet.<br /><br />Recommended Feeding Portions<br /><br />(based on a standard 8 oz dry measuring cup)<br />Every dog is different so optimal feeding amounts may vary with age, size, activity level, breed and environment. Please use this information as an initial recommendation only and adjust as needed.<br /><br />WEIGHT OF DOG DAILY FEEDING<br /><br />Lbs. Cups<br /><br />0 - 5 1/4 - 1/2<br />10 - 20 3/4 - 1 1/4<br />30 - 40 1 1/4 - 1 3/4<br />50 - 60 2 1/4 - 2 1/2<br />70 - 80 3 - 3 1/2<br />80 - 100 3 1/2 - 4 1/2<br /><br />Standard measuring cup holds approximately 3.6 oz (102 g) of Eagle Pack Senior Adult Dog Food.<br />Dogs over 100 lbs. (45 kg): Add approximately 1/2 cup (51 g) for every 10 lbs. (4.5 kg) over 100 lbs.<br />Combination Feeding: If feeding with wet food, reduce dry amount fed by 1/3 cup (34 g) for every 6.0 oz (170 g) of wet food.<br />Calorie Content: This food contains 3,550 kcal per kilogram or 362 kcal per cup ME (metabolizable energy) on an as fed basis (calculated).\n",
      "\n",
      "\n",
      "Received our package today- I knew they'd come in a bag and not in a neat box- that's totally okay with me. But I wasn't expecting a third of my shipment to be flavors/brands that weren't listed (that I don't like.) I am very disappointed that there was only 1 Gloria Jean's, 1 Caribou, and 1 Timothy's, and only 1 flavored Donut Shop coffee.  I am also very disappointed that there were only 3 tea varieties, and NO iced tea flavors! I wonder had they not put 9 k-cups in my package that I didn't want to order, if I would have gotten more of the varieties I ordered this for. But I have company coming tomorrow, so I guess I'll run out to BBB and buy some different non-coffee flavors in person so the non-coffee drinkers have something to choose from. Big letdown, Amazon... :(<br /><br />Here is what I received: 35 cups:<br /><br />Brooklyn Bridge Blend: (these were not listed and have poor reviews, I'm unhappy to be stuck with 7 of them now.)<br />corner donut house<br />boardwalk blend<br />breakfast blend decaf<br />breakfast blend<br />french roast<br />brooklyn bridge blend<br />colombian<br /><br />Grove Square: (not listed for anything but cider)<br />Milk chocolate cocoa<br />Hazelnut cappucino<br /><br />GMC:<br />Southern Pecan<br />Colombian fair trade select<br />mocha fudge nut<br />island coconut (limited edition)<br />breakfast blend<br />french vanilla iced coffee<br /><br />Wolfgang Puck:<br />Creme Caramel<br />sorrento<br />jamaica me crazy<br />colombian decaf<br />rodeo dr blend<br /><br />Coffee People:<br />DS coffee<br />Jet Fuel<br />decaf<br />sweet & creamy regular iced coffee<br />DS chocolate glazed donut<br /><br />Gloria Jeans butter toffee<br /><br />Emeril Big easy bold<br /><br />Newman's own extra bold<br /><br />Tully's house blend decaf<br /><br />Timothy's Kahlua original<br /><br />Revv Plulse<br /><br />Caribou Daybreak morning blend<br /><br />Tea:<br />Twinings Earl grey decaf<br />Bigelow green tea with pomegranate<br />Celestial seasonings english breakfast black tea\n",
      "\n",
      "\n",
      "the other ingredients are not so healthy and unfortunately I'm unable to review the flavor as I forgot I can't have beef anymore (due to health issues).<br /><br />Ingredients:  beef, flavoring supplement (salt, dextrose, corn syrup solids, maltodextrin, spices, spice extractives, soybean oil), vinegar, brown sugar, liquid smoke, salt, black pepper, garlic powder, spices<br /><br />Here is some info found on the internet:<br /><br />Maltodextrin ~ maltodextrin from corn or soy can be very unsafe/poison for anyone. As all GMO products like corn and soy are genetically engineered from the monsanto company. they insert a bacteria in all GMO products, and this changes the natural organic developing of corn or soy. do not buy anything that contains maltodextrin or titanium for your own health.<br /><br />Maltodextrin made in the US is made from corn.<br />Corn in the US is a GMO food so Maltodextrin as derived from a Gmo is extremely unsafe.<br /><br />Soy ~ this particular info from:<br /><br />(...)<br /><br />. . .fermented soy products such as natto, tempeh, miso and soy sauce, and enjoying the health benefits. Fermented soy does not wreak havoc on your body like unfermented soy products do.<br /><br />Here is just a sampling of the health effects that have been linked to unfermented soy consumption:<br /><br />*Breast cancer<br />*Brain damage<br />*Infant abnormalities<br />*Thyroid disorders<br />*Kidney stones<br />*Immune system impairment<br />*Severe, potentially fatal food allergies<br />*Impaired fertility<br />*Danger during pregnancy and nursing<br /><br />and for all ~<br /><br />Jesus Christ (Yahushua HaMashiach) is coming back. Don't leave this world without Him...<br /><br />Gift of God<br /><br />With all the bad going on in the world, God wants us to tell everyone about His good news.<br /><br />It's so fascinating always watching everything unfold just like the Bible predicts. I am often sent emails saying to forward it to everyone on my list if I am not ashamed of Yahweh (God) and His Messiah Yahushua HaMashiach (Jesus Christ). I do not forward those emails cuz I don't trust them (I'm not computer literate either), so I am sending this to everyone on my list (along with everyone else), as God does command us (no matter what the consequence to us) to share His good news with every one of His Messiah providing us with the only good way out of this world.<br /><br />Yep, just like it says it's going to happen in the Holy Bible (no matter which version is chosen to be believed or not believed), it's gonna get beyond tragically ugly here. If we think that there's been bad stuff already happening, we ain't seen nothin yet. Pretty much (if I remember correctly, but it's in the Bible), God unleashes 7 plagues the likes of which the world has never seen nor will see again (remember Sodom and Gomorrah, Noah's Ark and the great flood, etc., etc.); God abhors sin of which we are all guilty; no matter how big or how small (even the little white lie); sin is sin to God, and the penalty for sin is eternal death and separation from God.<br /><br />The Bible also tells of the Mark of the Beast that the coming world leader (the anti-Christ) will force everyone to take (either on their right hand or forehead). If you don't take the mark you will die. The thing about that is that we are all going to die. If you take the mark though, you will be damned eternally to hell and without God.<br /><br />The good news is that God loves us so much that He provided a way for us to be with Him eternally in heaven instead of eternally dead in our sins. For those who choose to believe, repent (turn back to God), receive and follow His command (not request) to accept His only holy blood covering for our sins, Yahushua Ha Mashiach (Jesus the Christ), we will be allowed to join Him in the new heaven and new earth that God says He will replace after all that is destroyed during this tribulation period of utter horrible death and destruction.<br /><br />Whether we believe in God or not, heaven and hell or not, we all believe that we are all going to die, just like we all believe that we need air to breath even if we can't see the air, along with if we jump off a tall building, we will fall cuz of gravity, which we also can't see, etc., etc.<br /><br />The question is, will we die only once with and for God if we repented, received and followed the sin covering that God provided for us through the perfect shed blood sacrifice of His Messiah Yahushua, who beat death and hell when He rose again and thus through His shed blood covering our sins, we will be able to enter into heaven with God forever?<br /><br />Is our choice instead to reject God's Messiah and take the easy way out while we still have to live in this world along with accepting the mark of the Beast from the antiChrist that's coming (or already here) that will lead this war against Israel? God says that we cannot serve two masters; that we have to choose to live and die once for Him or live and die forever without Him. It's just sad that people would rather have the temporary comfort leading to the eternal torment of satan than the temporary trouble leading to the eternal freedom and blessings of God.<br /><br />God's Word, whether we choose to believe is real (like Him) or not (and which has been proven true and continues to do so); I believe is as true as it was yesterday, is today and will be forever (just like Him with His swift terrible justice and His immeasurable love for us all because He provided our eTicket to heaven, the sacrificed and risen Yahushua the Messiah). Will you die with God or without Him? Will you die for Him or against Him? Will you accept the bail (Yahushua HaMashiach) that He paid on your behalf to get out of satan's hell so that you can enter into His heaven?<br /><br />My prayer is that all will ask Jesus Christ (Yeshua or Yahushua the Messiah) into their heart and follow Him so that all may know God's plan for our eternal salvation (rescue from our sins and eternal separation from God in hell) through His perfect sinless sacrificial substitute for our sins, Yahushua, and know His boundless, unconditional love, light, ultimate peace, power, strength, comfort, mercy, grace, beauty, healing, hope, joy and blessings, for you are so very precious in His sight!<br /><br />It's God's way (that He says in His Holy Word is only through His Holy Son Yahushua) or the highway (straight to hell). May God have mercy on us all on our way to finding (or rejecting) and then serving Him!<br /><br />Jesus is my hope in life and my life in death.<br /><br />Please take very good care, shalom and may you find healing and eternal life in the holy name of Jesus Christ!<br /><br />Yahushua loves you!\n",
      "\n",
      "\n",
      "Topic 2:\n",
      "food dog cat eating day cats eat diet got science\n",
      "\n",
      "\n",
      "This review will make me sound really stupid, but whatever. I don't really care as long as people find out what's real and can avoid my mistakes.<br /><br />I got my wonderful little sweet Bella Bean when she was a few days shy of three years old. She had been bounced around from house to house and eating whatever was cheap. I have had cats around me my entire life, for about twenty-five years now. My mother always just fed them whatever, the kinds of food you buy in the supermarket - Friskies, Nine Lives, Kit & Kaboodle, stuff like that. And our cats were always fine, at least in terms of their eating habits. They would eat in the morning, stop when they were done, come back, and eat some more when they got hungry.<br /><br />My housemate at the time was working for Hill's and assured me that this was the best food ever made, so great, so on and so forth. I now know that she is an utter buffoon, but I initially trusted her judgment, which is so unfortunate because she doesn't think. She also had plenty of coupons for free or deeply discounted bags, which made it a much more attractive choice.<br /><br />I first tried feeding the little Bean an unmeasured amount of Science Diet in a bowl, but that didn't work, as she would devour it in one sitting. So then I took to measuring it, and she did the same thing. Then I started parsing it out to twice a day. That didn't work either, because she would start going crazy in the middle of the day, running around, intentionally destroying things, deliberately spilling her water, crying, etc., until she got more food. So then I split it into three servings. Same thing. Then it got to be four servings. That was a little better, but it was too much maintenance and unrealistic to be around every day to feed her four times. So then it went back to three. All the while, I was trying to reduce the amount of food I was feeding her to less than 3/4 of a cup because she was a little chubby. Reducing was hell. She became even more hungry, but I figured she would get used to it. Not really.<br /><br />For over a year, she would wake me up every morning looking for food in a serious way, knocking things off my desk, ripping up any paper she could find, scratching at the door and committing general acts of mischief. As soon as she got food, she was back to her sweet self, but only for three or four hours.<br /><br />We thought she was bored, we thought she was a little nutty, and maybe even had a kitty eating disorder. She always wanted food. It was kind of funny but in the end it was just sad.<br /><br />A few weeks back, we took her to a new (good, non-money factory) vet for her second checkup since I've had her. I talked with him about her being always hungry. He asked what she ate, and I told him the adult indoor Science Diet. Without saying as much, he basically told me that this food is garbage and I should look for something else. He said cat food should have a protein followed by a carbohydrate as the first two ingredients. Science Diet does, in a very loose, by-product kind of way - ground up slaughterhouse leftovers and corn dust. Then they put a bunch of vitamins in it to make it \"healthy,\" instead of just using good ingredients from the beginning. Not that I care about spending money on the Bean, but this food is way too expensive for what it is.<br /><br />So we began transitioning her onto Wellness indoor formula about two weeks ago. She is still eating 50 percent Science Diet with 50 percent Wellness (you really shouldn't just give a cat different food one day out of the blue) but SHE NEVER FREAKS OUT ANYMORE. It's amazing. And it's 100 percent because she is eating real food now, along with that sawdust and chicken hearts I still regrettable have to feed her. We have her down to eating twice a day, only 1/3 cup in TOTAL. She was eating three times a day, 5/8 of a cup in total. Now she eats some in the morning, walks away, eats some more a few hours later, and then looks for dinner about twelve hours after her initial feeding. No more knocking things over, no more trashing Dad's papers on the desk, no more howling, no more deliberately spilled water on the floor. It's incredible.<br /><br />I feel so bad that I was doing this to her for so long. We really thought she was just being dramatic or whatever. But no, she was genuinely hungry because she wasn't eating any real food.<br /><br />Do your cat a favor - buy her or him so food made with real ingredients, things you would eat - Wellness, Halo, Innova, Evo, whatever. Figure it out for yourself, but please don't feed your cat this. It's garbage.\n",
      "\n",
      "\n",
      "This review will make me sound really stupid, but whatever. I don't really care as long as people find out what's real and can avoid my mistakes.<br /><br />I got my wonderful little sweet Bella Bean when she was a few days shy of three years old. She had been bounced around from house to house and eating whatever was cheap. I have had cats around me my entire life, for about twenty-five years now. My mother always just fed them whatever, the kinds of food you buy in the supermarket - Friskies, Nine Lives, Kit & Kaboodle, stuff like that. And our cats were always fine, at least in terms of their eating habits. They would eat in the morning, stop when they were done, come back, and eat some more when they got hungry.<br /><br />My housemate at the time was working for Hill's and assured me that this was the best food ever made, so great, so on and so forth. I now know that she is an utter buffoon, but I initially trusted her judgment, which is so unfortunate because she doesn't think. She also had plenty of coupons for free or deeply discounted bags, which made it a much more attractive choice.<br /><br />I first tried feeding the little Bean an unmeasured amount of Science Diet in a bowl, but that didn't work, as she would devour it in one sitting. So then I took to measuring it, and she did the same thing. Then I started parsing it out to twice a day. That didn't work either, because she would start going crazy in the middle of the day, running around, intentionally destroying things, deliberately spilling her water, crying, etc., until she got more food. So then I split it into three servings. Same thing. Then it got to be four servings. That was a little better, but it was too much maintenance and unrealistic to be around every day to feed her four times. So then it went back to three. All the while, I was trying to reduce the amount of food I was feeding her to less than 3/4 of a cup because she was a little chubby. Reducing was hell. She became even more hungry, but I figured she would get used to it. Not really.<br /><br />For over a year, she would wake me up every morning looking for food in a serious way, knocking things off my desk, ripping up any paper she could find, scratching at the door and committing general acts of mischief. As soon as she got food, she was back to her sweet self, but only for three or four hours.<br /><br />We thought she was bored, we thought she was a little nutty, and maybe even had a kitty eating disorder. She always wanted food. It was kind of funny but in the end it was just sad.<br /><br />A few weeks back, we took her to a new (good, non-money factory) vet for her second checkup since I've had her. I talked with him about her being always hungry. He asked what she ate, and I told him the adult indoor Science Diet. Without saying as much, he basically told me that this food is garbage and I should look for something else. He said cat food should have a protein followed by a carbohydrate as the first two ingredients. Science Diet does, in a very loose, by-product kind of way - ground up slaughterhouse leftovers and corn dust. Then they put a bunch of vitamins in it to make it \"healthy,\" instead of just using good ingredients from the beginning. Not that I care about spending money on the Bean, but this food is way too expensive for what it is.<br /><br />So we began transitioning her onto Wellness indoor formula about two weeks ago. She is still eating 50 percent Science Diet with 50 percent Wellness (you really shouldn't just give a cat different food one day out of the blue) but SHE NEVER FREAKS OUT ANYMORE. It's amazing. And it's 100 percent because she is eating real food now, along with that sawdust and chicken hearts I still regrettable have to feed her. We have her down to eating twice a day, only 1/3 cup in TOTAL. She was eating three times a day, 5/8 of a cup in total. Now she eats some in the morning, walks away, eats some more a few hours later, and then looks for dinner about twelve hours after her initial feeding. No more knocking things over, no more trashing Dad's papers on the desk, no more howling, no more deliberately spilled water on the floor. It's incredible.<br /><br />I feel so bad that I was doing this to her for so long. We really thought she was just being dramatic or whatever. But no, she was genuinely hungry because she wasn't eating any real food.<br /><br />Do your cat a favor - buy her or him so food made with real ingredients, things you would eat - Wellness, Halo, Innova, Evo, whatever. Figure it out for yourself, but please don't feed your cat this. It's garbage.\n",
      "\n",
      "\n",
      "This review will make me sound really stupid, but whatever. I don't really care as long as people find out what's real and can avoid my mistakes.<br /><br />I got my wonderful little sweet Bella Bean when she was a few days shy of three years old. She had been bounced around from house to house and eating whatever was cheap. I have had cats around me my entire life, for about twenty-five years now. My mother always just fed them whatever, the kinds of food you buy in the supermarket - Friskies, Nine Lives, Kit & Kaboodle, stuff like that. And our cats were always fine, at least in terms of their eating habits. They would eat in the morning, stop when they were done, come back, and eat some more when they got hungry.<br /><br />My housemate at the time was working for Hill's and assured me that this was the best food ever made, so great, so on and so forth. I now know that she is an utter buffoon, but I initially trusted her judgment, which is so unfortunate because she doesn't think. She also had plenty of coupons for free or deeply discounted bags, which made it a much more attractive choice.<br /><br />I first tried feeding the little Bean an unmeasured amount of Science Diet in a bowl, but that didn't work, as she would devour it in one sitting. So then I took to measuring it, and she did the same thing. Then I started parsing it out to twice a day. That didn't work either, because she would start going crazy in the middle of the day, running around, intentionally destroying things, deliberately spilling her water, crying, etc., until she got more food. So then I split it into three servings. Same thing. Then it got to be four servings. That was a little better, but it was too much maintenance and unrealistic to be around every day to feed her four times. So then it went back to three. All the while, I was trying to reduce the amount of food I was feeding her to less than 3/4 of a cup because she was a little chubby. Reducing was hell. She became even more hungry, but I figured she would get used to it. Not really.<br /><br />For over a year, she would wake me up every morning looking for food in a serious way, knocking things off my desk, ripping up any paper she could find, scratching at the door and committing general acts of mischief. As soon as she got food, she was back to her sweet self, but only for three or four hours.<br /><br />We thought she was bored, we thought she was a little nutty, and maybe even had a kitty eating disorder. She always wanted food. It was kind of funny but in the end it was just sad.<br /><br />A few weeks back, we took her to a new (good, non-money factory) vet for her second checkup since I've had her. I talked with him about her being always hungry. He asked what she ate, and I told him the adult indoor Science Diet. Without saying as much, he basically told me that this food is garbage and I should look for something else. He said cat food should have a protein followed by a carbohydrate as the first two ingredients. Science Diet does, in a very loose, by-product kind of way - ground up slaughterhouse leftovers and corn dust. Then they put a bunch of vitamins in it to make it \"healthy,\" instead of just using good ingredients from the beginning. Not that I care about spending money on the Bean, but this food is way too expensive for what it is.<br /><br />So we began transitioning her onto Wellness indoor formula about two weeks ago. She is still eating 50 percent Science Diet with 50 percent Wellness (you really shouldn't just give a cat different food one day out of the blue) but SHE NEVER FREAKS OUT ANYMORE. It's amazing. And it's 100 percent because she is eating real food now, along with that sawdust and chicken hearts I still regrettable have to feed her. We have her down to eating twice a day, only 1/3 cup in TOTAL. She was eating three times a day, 5/8 of a cup in total. Now she eats some in the morning, walks away, eats some more a few hours later, and then looks for dinner about twelve hours after her initial feeding. No more knocking things over, no more trashing Dad's papers on the desk, no more howling, no more deliberately spilled water on the floor. It's incredible.<br /><br />I feel so bad that I was doing this to her for so long. We really thought she was just being dramatic or whatever. But no, she was genuinely hungry because she wasn't eating any real food.<br /><br />Do your cat a favor - buy her or him so food made with real ingredients, things you would eat - Wellness, Halo, Innova, Evo, whatever. Figure it out for yourself, but please don't feed your cat this. It's garbage.\n",
      "\n",
      "\n",
      "This review will make me sound really stupid, but whatever. I don't really care as long as people find out what's real and can avoid my mistakes.<br /><br />I got my wonderful little sweet Bella Bean when she was a few days shy of three years old. She had been bounced around from house to house and eating whatever was cheap. I have had cats around me my entire life, for about twenty-five years now. My mother always just fed them whatever, the kinds of food you buy in the supermarket - Friskies, Nine Lives, Kit & Kaboodle, stuff like that. And our cats were always fine, at least in terms of their eating habits. They would eat in the morning, stop when they were done, come back, and eat some more when they got hungry.<br /><br />My housemate at the time was working for Hill's and assured me that this was the best food ever made, so great, so on and so forth. I now know that she is an utter buffoon, but I initially trusted her judgment, which is so unfortunate because she doesn't think. She also had plenty of coupons for free or deeply discounted bags, which made it a much more attractive choice.<br /><br />I first tried feeding the little Bean an unmeasured amount of Science Diet in a bowl, but that didn't work, as she would devour it in one sitting. So then I took to measuring it, and she did the same thing. Then I started parsing it out to twice a day. That didn't work either, because she would start going crazy in the middle of the day, running around, intentionally destroying things, deliberately spilling her water, crying, etc., until she got more food. So then I split it into three servings. Same thing. Then it got to be four servings. That was a little better, but it was too much maintenance and unrealistic to be around every day to feed her four times. So then it went back to three. All the while, I was trying to reduce the amount of food I was feeding her to less than 3/4 of a cup because she was a little chubby. Reducing was hell. She became even more hungry, but I figured she would get used to it. Not really.<br /><br />For over a year, she would wake me up every morning looking for food in a serious way, knocking things off my desk, ripping up any paper she could find, scratching at the door and committing general acts of mischief. As soon as she got food, she was back to her sweet self, but only for three or four hours.<br /><br />We thought she was bored, we thought she was a little nutty, and maybe even had a kitty eating disorder. She always wanted food. It was kind of funny but in the end it was just sad.<br /><br />A few weeks back, we took her to a new (good, non-money factory) vet for her second checkup since I've had her. I talked with him about her being always hungry. He asked what she ate, and I told him the adult indoor Science Diet. Without saying as much, he basically told me that this food is garbage and I should look for something else. He said cat food should have a protein followed by a carbohydrate as the first two ingredients. Science Diet does, in a very loose, by-product kind of way - ground up slaughterhouse leftovers and corn dust. Then they put a bunch of vitamins in it to make it \"healthy,\" instead of just using good ingredients from the beginning. Not that I care about spending money on the Bean, but this food is way too expensive for what it is.<br /><br />So we began transitioning her onto Wellness indoor formula about two weeks ago. She is still eating 50 percent Science Diet with 50 percent Wellness (you really shouldn't just give a cat different food one day out of the blue) but SHE NEVER FREAKS OUT ANYMORE. It's amazing. And it's 100 percent because she is eating real food now, along with that sawdust and chicken hearts I still regrettable have to feed her. We have her down to eating twice a day, only 1/3 cup in TOTAL. She was eating three times a day, 5/8 of a cup in total. Now she eats some in the morning, walks away, eats some more a few hours later, and then looks for dinner about twelve hours after her initial feeding. No more knocking things over, no more trashing Dad's papers on the desk, no more howling, no more deliberately spilled water on the floor. It's incredible.<br /><br />I feel so bad that I was doing this to her for so long. We really thought she was just being dramatic or whatever. But no, she was genuinely hungry because she wasn't eating any real food.<br /><br />Do your cat a favor - buy her or him so food made with real ingredients, things you would eat - Wellness, Halo, Innova, Evo, whatever. Figure it out for yourself, but please don't feed your cat this. It's garbage.\n",
      "\n",
      "\n",
      "Topic 3:\n",
      "tea food green teas bags leaves cat day chai stash\n",
      "\n",
      "\n",
      "*****<br /><br />This Organic Green Tea Kombucha Decaf from Yogi Tea is certainly unique. It tastes like a mixture of passion fruit, plum, ginger, and green tea. It is mild, and not bitter at all, even when you leave the tea bag in the whole time you drink the tea, as I do. Best of all, it is an easy, convenient way of benefiting from Kombucha, if you don't grow your own (and I don't anymore, as it is not easy or convenient for me). I have never before obtained my Kombucha from a tea; this is a tasty way to do so.<br /><br />I am definitely impressed with this tea and with Yogi Teas in general. Organic Green Tea Kombucha Decaf comes with an expiration date (a good thing, because it's not full of preservatives, plus you can tell if it is fresh). Yogi Tea seems to be another company (like Numi, Aspen, Traditional Medicinals) that values sustainable and healthy practices. Their web site has a helpful glossary of tea ingredients and is beautifully designed, with info about each tea they make.<br /><br />Yogi Tea writes this on the box about the tea's benefits: \"Green Tea Decaf Kombucha uses the same delicious recipe as our Green Tea Kombucha but is naturally decaffeinated. Our organically certified CO2 decaffeination method removes only the caffeine while leaving all of the beneficial polyphenolic elements of Organic Green Tea (Camellia sinensis) intact. This method also maintains the antioxidant properties and delicate flavor of our delicious, organically-grown Green Tea.* Unlike other green teas, this special organic Green Tea has a delicate flavor with no bitterness. This formula incorporates the natural antioxidant properties of Green Tea with a concentrated, purified extract of Kombucha-Pure(tm). This extract is made from Kombucha grown in a unique medium of 32 supporting Chinese herbs and is produced without the use of refined sugar or black tea. For centuries, practitioners of herbal medicine have used Kombucha to detoxify the body, enhance the immune system, fight fatigue and soothe an upset stomach.* This convenient form of Kombucha can be taken daily for maximum health benefits.\"<br /><br />Yogi Tea's use of \"Kombucha-Pure\", grown in 32 Chinese herbs and WITHOUT black tea or sugar is very, very appealing, and a new and exciting way of producing Kombucha.<br /><br />Note that Yogi Tea also makes a caffeinated version of this tea that has exactly the same ingredients except that the organic green tea does include caffeine.<br /><br />Highly recommended.<br /><br />*****\n",
      "\n",
      "\n",
      "I like tea, in fact I like it a lot. I've had some good gunpowder green tea in the past from adagio as well as Twinnings and it is a beautiful thing. You put what look like little BBs of green tea into your cup or teapot, add the water, and you can see the tea practically explode into nearly full size leaves of tea (hence the name).<br /><br />Davidson's tea disappoints. The tea leaves really don't expand much which tells me they weren't really rolled the way gunpowder green tea is supposed to be. This tea also lacks flavor (at least compared to the other gunpowder green teas I've tried). I used the same amount to brew the same cup of tea I've been enjoying with Twinnigs and frankly the Davidson's version tasted more like hot water than green tea. This may be because the leaves aren't as compacted as a proper gunpowder green tea so the same tablespoon of tea now has less actual mass of tea leaves, it could be because this tea has a lower quality tea leaf in it, heck it could be because this is an old batch of tea for all I know.<br /><br />The point of this review is to say that this tea was a complete waste of money. I am sorry to say I paid for an entire pound of it. I will try it once or twice more, but if the results remain the same I will likely have to throw out the rest of the bag and that would just make me sad because it would mean that I've wasted both money and tea.<br /><br />I have added a photo of the actual tea I received (compare it to that in the original product photos and you'll see a huge difference). Mine is the one that does not look like it is magically hanging in the air and defying gravity.<br /><br />TL;DR version: Don't buy this tea. It isn't really gunpowder green tea and is not worth your money.\n",
      "\n",
      "\n",
      "First, I picked this up at my local Asian supermarket because the price there was half what was the price here. Second, I noticed that unlike the other Thai teas, it does not have artificial coloring. All the other Thai teas I found on Amazon and in the Asian supermarket close by had FD&C Yellow No. 6 (Sunset Yellow) which is banned in a few countries due to its carcinogenic effects. I was hoping to avoid that by purchasing this alternative. Unfortunately, this tea is lacking more than just the artificial color.<br /><br />Since I always order tea at Thai restaurants due to the unique flavor and taste, but find the $3.00~4.00 price a bit expensive, I decided to get some so I could brew the same tea at home.<br /><br />THIS IS NOT THAT TEA. In fact, I wouldn't drink this tea at all. I've tried many different types of tea, and this tea is quite possibly of the same quality, if not worse, as \"cheap Chinese restaurant tea\" (watered-down jasmine). Not only does this tea fail to resemble the \"real\" Thai tea in any way, but it lacks any flavor, period. I found that I needed 2 tea bags for a typical, single 6-8oz serving of tea. Even so, it tasted more like generic black tea than the spicy, full-flavored Thai tea that you would expect. For a pot of tea, I needed 5-6 bags. Priced here at $7.99 per box, it is extremely overpriced. $8.00 for 20 bland, half-strength tea bags is a complete ripoff. You could literally get a box of 20 premium fair trade, organic tea bags from Trader Joe's for half the price that these bags are selling for.<br /><br />If you want authentic Thai tea, try <a href=\"http://www.amazon.com/gp/product/B005G0F8RY\">Thai Tea Cha Thai</a>. It is a little more expensive, but you receive a large bag and it actually tastes like what you would expect from \"Thai tea.\" Furthermore, with Cha Thai, a little goes a long way, so the bag should last a while. As I indicated above, it has Yellow No. 6, so I drink it in moderation until I can find a great-tasting, natural alternative that The Original Thai Tea fails to be.\n",
      "\n",
      "\n",
      "I drink a lot of tea... from the dollar store plain black tea to exotic loose leaf.  I have so much tea that I've been placed on a \"tea diet\" and have to sneak new teas into the house.  Needless to say, I was thrilled to try this new tea.<br /><br />Sadly, this tea fell very short.  I dont expect bagged chai tea to taste like real chai.  I do expect a nice spiced tea with a little bit of a kick.  I found this tea very weak.  Even leaving the tea in my 8 oz tea cup for 10 mins, the tea was still too weak.  I found the only way to drink this tea was to double up on the tea bags.  At 20 bags per box, this box would only last me 5 days with my 16 oz \"morning commute\" tea cup.<br /><br />On the plus side, this tea does smell nice.  I'm currently mixing it with no name cheap black tea with good results.  However it is likely that I will not purchase this tea in the future.\n",
      "\n",
      "\n",
      "Topic 4:\n",
      "coffee tea cup food day eating cups science morning got\n",
      "\n",
      "\n",
      "I love coffee.  Good coffee.  For many years, I have bought high-end beans, stored them carefully and ground them right before making a pot of coffee.  My husband and I have a fine dining restaurant, and the coffee we serve there is simply wonderful, because I carefully sourced the coffee we buy to get the best possible flavor.<br /><br />So, when I was given a Keurig as a gift, I was not exactly thrilled.  I am the only coffee drinker in our house, and I thought it would be wonderfully convenient, although I was concerned about the quality of the coffee available for it.  I had no idea it would be as bad as it was.  I know you have to kiss a lot of frogs before you meet a prince, but I sure didn't think I would buy and taste so much pitifully poor coffee in my search for something good.  I tried so many of those environmentally-unfriendly little plastic cups, and even the five-star ones were ... meh.  I even bought several contraptions that let you use your own coffee, but they were more trouble to use than making a whole pot of the stuff, defeating -- for me, at least -- the whole purpose of having a Keurig.  I seriously considered just giving the thing away.<br /><br />Then I saw these lower-priced, more environmentally-friendly pods from San Francisco Bay.  I read the reviews and decided to give it a try.  When my pods arrived, I opened the bag and was greeted by the wonderful aroma of GOOD COFFEE!  My hopes soared.  When I tasted my first cup, I was so happy that I went through my office giving pods to my coffee-loving friends (we use Keurig at my day job).  It's still nowhere near the coffee in our restaurant, but I can at last have GOOD COFFEE at work!  The fact that these are more environmentally friendly and cheaper than the bad K-cups I've bought in the past is just a bonus!<br /><br />I bought several varieties and am happy with all of them, though the Rainforest Blend is my favorite so far, rich but not bitter and with wonderful coffee flavor and aroma.  It's a bit of a pain to keep them in a ziplock bag, but you get used to it, and the coffee is certainly worth it.<br /><br />FWIW, I also tried another environmentally-friendlier pod, Cameron's, and found it not nearly as good as the San Francisco Bay coffee.  I'll stick with SFB from now on, and I'm keeping the Keurig.\n",
      "\n",
      "\n",
      "I have a Keurig B60 and have used it with a variety of coffee 'k cups' for several months now.  I was a little disappointed in the Tully French Roast.<br /><br />Now let me quantify that I  I tend to like my coffee \"light and sweet\".  I also find French Roasts to typically be among my least favorite types of coffee.<br /><br />I do sometimes opt for a bold cup of java.  However, I find the Tully French Roast to be more bitter than bold.  I've tired different cup size setting on the Keurig, but the Tully French Roast keeps resulting in a bitter cup of coffee.  It really had a burnt taste to it.<br /><br />I went so far as to run the same k cup through the Keurig twice to see if the Tully coffee was simply too bold for my taste.  I realize k cups are not intended for re-use but I was trying to figure out if the coffee was just too bold for my taste or really just bitter.<br /><br />SEE TIP AT BOTTOM OF REVIEW.<br /><br />While the second cup of coffee was on the weak side, it was still drinkable....however, just like the first, it was bitter.<br /><br />Where the Keurig is concerned I have found the best bold cups to be the Newman's Own Organic \"Extra Bold\" and the Emeril's \"Big Easy Bold\".<br /><br />Again, while not a huge fan of French Roast, I liked the Timothy's World \"French Roast\"; that brand is what you would expect, a nice cup of bold coffee.  The Tully's - just bitter.<br /><br />TIP:  While you probably don't want to reuse k cups as a regular practice, it does not hurt the machine, so if you like your coffee mild or want to cut down on costs, here is what you do.  Brew a cup of coffee using the k cup of your choice.  Then, go through the brewing process again: simply leave the used k cup in and lift and reclose the handle when the unit displayed 'Ready To Brew'.  This is best done with the small cup setting, otherwise your coffee will not be mild, but just plain weak.\n",
      "\n",
      "\n",
      "This Ecobrew reusable Keurig K-cup is great for brewing your own coffee. It seems to have been very well designed and is easy to use. One of the things I felt bad about when I bought my Keurig coffee maker was the fact that although it was a great convenient coffee maker... it does tend to produce lots of waste when you buy the disposable k-cups.  I think this product also ends up saving you lots of money in the long run too. K-cups can be quite expensive.  I really love this product and I really can't find anything bad to say about it. There is another product called the Solofill that essentially does the same thing but is made from another company. I own both products and if you're curious to how they stack up against one another, check out the paragraph below. You may want to do research to make sure that your Keurig coffee maker is compatible with the EcoBrew or Solofill. I know that some K-cup coffee makers are not compatible with these products. I own the MR. Coffee single K-cup coffee maker and can say that it's compatible with both of these products.  If you want to know more about the Mr. Coffee Keurig coffee maker, feel free to read my review on that as well :)<br /><br />EcoBrew VS Solofill<br /><br />First off, I'd like to state that I purchased both the Solofill and the Ecobrew.  Both of these products are really great reusable Keurig filters that let you brew your own coffee in a Keurig coffee maker.  These essentially let you make your own K-cups with your own coffee... and they're reusable!  I would rate the Solofill as 4.5 Stars out of 5 and the Ecobrew as a 5 out of 5 Star Product.  The Ecobrew is a bit better than the Solofill because it is easier to rinse out. The Solofill tends to collect grinds at the very bottom and it's very hard to get the few last grinds out. The Ecobrew also fits better in my Mr Coffee single cup K-cup brewer. The Ecobrew seems to have a slightly larger capacity for coffee grinds too, which may mean it's capable of brewing slightly stronger coffee. And lastly, the Ecobrew has a flat bottom that can sit on a counter top by itself. This makes it much easier to fill than the Solofill. With the Solofill, it couldn't be balanced on a table-top so I had to cut out the bottom of a small dixie cup to make my own \"stand\" in order to fill it properly.\n",
      "\n",
      "\n",
      "This review will make me sound really stupid, but whatever. I don't really care as long as people find out what's real and can avoid my mistakes.<br /><br />I got my wonderful little sweet Bella Bean when she was a few days shy of three years old. She had been bounced around from house to house and eating whatever was cheap. I have had cats around me my entire life, for about twenty-five years now. My mother always just fed them whatever, the kinds of food you buy in the supermarket - Friskies, Nine Lives, Kit & Kaboodle, stuff like that. And our cats were always fine, at least in terms of their eating habits. They would eat in the morning, stop when they were done, come back, and eat some more when they got hungry.<br /><br />My housemate at the time was working for Hill's and assured me that this was the best food ever made, so great, so on and so forth. I now know that she is an utter buffoon, but I initially trusted her judgment, which is so unfortunate because she doesn't think. She also had plenty of coupons for free or deeply discounted bags, which made it a much more attractive choice.<br /><br />I first tried feeding the little Bean an unmeasured amount of Science Diet in a bowl, but that didn't work, as she would devour it in one sitting. So then I took to measuring it, and she did the same thing. Then I started parsing it out to twice a day. That didn't work either, because she would start going crazy in the middle of the day, running around, intentionally destroying things, deliberately spilling her water, crying, etc., until she got more food. So then I split it into three servings. Same thing. Then it got to be four servings. That was a little better, but it was too much maintenance and unrealistic to be around every day to feed her four times. So then it went back to three. All the while, I was trying to reduce the amount of food I was feeding her to less than 3/4 of a cup because she was a little chubby. Reducing was hell. She became even more hungry, but I figured she would get used to it. Not really.<br /><br />For over a year, she would wake me up every morning looking for food in a serious way, knocking things off my desk, ripping up any paper she could find, scratching at the door and committing general acts of mischief. As soon as she got food, she was back to her sweet self, but only for three or four hours.<br /><br />We thought she was bored, we thought she was a little nutty, and maybe even had a kitty eating disorder. She always wanted food. It was kind of funny but in the end it was just sad.<br /><br />A few weeks back, we took her to a new (good, non-money factory) vet for her second checkup since I've had her. I talked with him about her being always hungry. He asked what she ate, and I told him the adult indoor Science Diet. Without saying as much, he basically told me that this food is garbage and I should look for something else. He said cat food should have a protein followed by a carbohydrate as the first two ingredients. Science Diet does, in a very loose, by-product kind of way - ground up slaughterhouse leftovers and corn dust. Then they put a bunch of vitamins in it to make it \"healthy,\" instead of just using good ingredients from the beginning. Not that I care about spending money on the Bean, but this food is way too expensive for what it is.<br /><br />So we began transitioning her onto Wellness indoor formula about two weeks ago. She is still eating 50 percent Science Diet with 50 percent Wellness (you really shouldn't just give a cat different food one day out of the blue) but SHE NEVER FREAKS OUT ANYMORE. It's amazing. And it's 100 percent because she is eating real food now, along with that sawdust and chicken hearts I still regrettable have to feed her. We have her down to eating twice a day, only 1/3 cup in TOTAL. She was eating three times a day, 5/8 of a cup in total. Now she eats some in the morning, walks away, eats some more a few hours later, and then looks for dinner about twelve hours after her initial feeding. No more knocking things over, no more trashing Dad's papers on the desk, no more howling, no more deliberately spilled water on the floor. It's incredible.<br /><br />I feel so bad that I was doing this to her for so long. We really thought she was just being dramatic or whatever. But no, she was genuinely hungry because she wasn't eating any real food.<br /><br />Do your cat a favor - buy her or him so food made with real ingredients, things you would eat - Wellness, Halo, Innova, Evo, whatever. Figure it out for yourself, but please don't feed your cat this. It's garbage.\n",
      "\n",
      "\n"
     ]
    }
   ],
   "source": [
    "print(\"\\n\\nLSI Topics \\n\\n\")\n",
    "display_topics(lsi_H, lsi_W, tf_feature_names, documents, no_top_words, no_top_documents)"
   ]
  },
  {
   "cell_type": "markdown",
   "metadata": {},
   "source": [
    "## Word Clouds"
   ]
  },
  {
   "cell_type": "code",
   "execution_count": 27,
   "metadata": {
    "collapsed": true
   },
   "outputs": [],
   "source": [
    "from wordcloud import WordCloud, STOPWORDS"
   ]
  },
  {
   "cell_type": "code",
   "execution_count": 28,
   "metadata": {
    "collapsed": true
   },
   "outputs": [],
   "source": [
    "plt.rcParams['font.size']=12                 \n",
    "plt.rcParams['savefig.dpi']=100             \n",
    "plt.rcParams['figure.subplot.bottom']=.1 "
   ]
  },
  {
   "cell_type": "code",
   "execution_count": 29,
   "metadata": {
    "collapsed": true
   },
   "outputs": [],
   "source": [
    "def print_cloud(data):\n",
    "    wordcloud = WordCloud(\n",
    "              background_color='white',\n",
    "              max_words=200,\n",
    "              max_font_size=40, \n",
    "              random_state=42\n",
    "             ).generate(str(data))\n",
    "    \n",
    "    return wordcloud"
   ]
  },
  {
   "cell_type": "code",
   "execution_count": 30,
   "metadata": {},
   "outputs": [
    {
     "data": {
      "image/png": "[encoded data removed]",
      "text/plain": [
       "<matplotlib.figure.Figure at 0x7fd5ad862d50>"
      ]
     },
     "metadata": {},
     "output_type": "display_data"
    }
   ],
   "source": [
    "wordcloud = print_cloud(df['Text'])\n",
    "fig = plt.figure(1)\n",
    "plt.imshow(wordcloud)\n",
    "plt.axis('off')\n",
    "plt.show()\n",
    "fig.savefig(\"word1.png\", dpi=900)"
   ]
  },
  {
   "cell_type": "code",
   "execution_count": null,
   "metadata": {
    "collapsed": true
   },
   "outputs": [],
   "source": []
  }
 ],
 "metadata": {
  "kernelspec": {
   "display_name": "Python 3",
   "language": "python",
   "name": "python3"
  },
  "language_info": {
   "codemirror_mode": {
    "name": "ipython",
    "version": 2
   },
   "file_extension": ".py",
   "mimetype": "text/x-python",
   "name": "python",
   "nbconvert_exporter": "python",
   "pygments_lexer": "ipython2",
   "version": "2.7.14"
  }
 },
 "nbformat": 4,
 "nbformat_minor": 2
}
